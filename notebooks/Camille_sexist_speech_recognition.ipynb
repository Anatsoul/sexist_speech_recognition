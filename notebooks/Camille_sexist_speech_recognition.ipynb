{
 "cells": [
  {
   "cell_type": "markdown",
   "id": "40554479",
   "metadata": {},
   "source": [
    "## Exploration"
   ]
  },
  {
   "cell_type": "markdown",
   "id": "a5ccfbd9",
   "metadata": {
    "ExecuteTime": {
     "end_time": "2022-08-29T16:11:07.498755Z",
     "start_time": "2022-08-29T16:11:07.481871Z"
    }
   },
   "source": [
    "Importer le data set sur le sexisme"
   ]
  },
  {
   "cell_type": "code",
   "execution_count": 1,
   "id": "b5659651",
   "metadata": {
    "ExecuteTime": {
     "end_time": "2022-08-31T07:40:39.485267Z",
     "start_time": "2022-08-31T07:40:39.214778Z"
    }
   },
   "outputs": [],
   "source": [
    "import pandas as pd\n",
    "\n",
    "data = pd.read_csv(\"/Users/camillepettineo/code/sunc33/sexist_speech_recognition/sexist_speech_recognition/data/sexism_data_sexism_data.csv\")"
   ]
  },
  {
   "cell_type": "markdown",
   "id": "dafcbbae",
   "metadata": {
    "ExecuteTime": {
     "end_time": "2022-08-30T07:35:12.351922Z",
     "start_time": "2022-08-30T07:35:12.336222Z"
    }
   },
   "source": [
    "On commence par regarder la répartition des catégories de la colonne 'dataset'. On décide de retirer les messages correspondant à 'scales'"
   ]
  },
  {
   "cell_type": "code",
   "execution_count": 2,
   "id": "798920f4",
   "metadata": {
    "ExecuteTime": {
     "end_time": "2022-08-31T07:40:39.492476Z",
     "start_time": "2022-08-31T07:40:39.486407Z"
    }
   },
   "outputs": [
    {
     "data": {
      "text/plain": [
       "(13631, 6)"
      ]
     },
     "execution_count": 2,
     "metadata": {},
     "output_type": "execute_result"
    }
   ],
   "source": [
    "data.shape"
   ]
  },
  {
   "cell_type": "code",
   "execution_count": 3,
   "id": "a67a0e85",
   "metadata": {
    "ExecuteTime": {
     "end_time": "2022-08-31T07:40:39.507101Z",
     "start_time": "2022-08-31T07:40:39.497014Z"
    },
    "scrolled": true
   },
   "outputs": [
    {
     "data": {
      "text/plain": [
       "array(['other', 'callme', 'benevolent', 'scales', 'hostile'], dtype=object)"
      ]
     },
     "execution_count": 3,
     "metadata": {},
     "output_type": "execute_result"
    }
   ],
   "source": [
    "data['dataset'].unique()"
   ]
  },
  {
   "cell_type": "code",
   "execution_count": 4,
   "id": "9fbec168",
   "metadata": {
    "ExecuteTime": {
     "end_time": "2022-08-31T07:40:39.518199Z",
     "start_time": "2022-08-31T07:40:39.508377Z"
    }
   },
   "outputs": [
    {
     "data": {
      "text/plain": [
       "False    11822\n",
       "True      1809\n",
       "Name: sexist, dtype: int64"
      ]
     },
     "execution_count": 4,
     "metadata": {},
     "output_type": "execute_result"
    }
   ],
   "source": [
    "data['sexist'].value_counts()"
   ]
  },
  {
   "cell_type": "code",
   "execution_count": 5,
   "id": "ae867011",
   "metadata": {
    "ExecuteTime": {
     "end_time": "2022-08-31T07:40:39.531688Z",
     "start_time": "2022-08-31T07:40:39.519826Z"
    }
   },
   "outputs": [
    {
     "data": {
      "text/html": [
       "<div>\n",
       "<style scoped>\n",
       "    .dataframe tbody tr th:only-of-type {\n",
       "        vertical-align: middle;\n",
       "    }\n",
       "\n",
       "    .dataframe tbody tr th {\n",
       "        vertical-align: top;\n",
       "    }\n",
       "\n",
       "    .dataframe thead th {\n",
       "        text-align: right;\n",
       "    }\n",
       "</style>\n",
       "<table border=\"1\" class=\"dataframe\">\n",
       "  <thead>\n",
       "    <tr style=\"text-align: right;\">\n",
       "      <th></th>\n",
       "      <th>id</th>\n",
       "      <th>dataset</th>\n",
       "      <th>text</th>\n",
       "      <th>toxicity</th>\n",
       "      <th>sexist</th>\n",
       "      <th>of_id</th>\n",
       "    </tr>\n",
       "  </thead>\n",
       "  <tbody>\n",
       "    <tr>\n",
       "      <th>14</th>\n",
       "      <td>14</td>\n",
       "      <td>scales</td>\n",
       "      <td>Women have more intuition than men.</td>\n",
       "      <td>0.321429</td>\n",
       "      <td>True</td>\n",
       "      <td>-1</td>\n",
       "    </tr>\n",
       "    <tr>\n",
       "      <th>18</th>\n",
       "      <td>18</td>\n",
       "      <td>scales</td>\n",
       "      <td>No one should be set on a pedestal by their si...</td>\n",
       "      <td>0.081340</td>\n",
       "      <td>False</td>\n",
       "      <td>708</td>\n",
       "    </tr>\n",
       "    <tr>\n",
       "      <th>30</th>\n",
       "      <td>30</td>\n",
       "      <td>scales</td>\n",
       "      <td>Women do not belong in politics</td>\n",
       "      <td>0.451443</td>\n",
       "      <td>True</td>\n",
       "      <td>-1</td>\n",
       "    </tr>\n",
       "    <tr>\n",
       "      <th>45</th>\n",
       "      <td>45</td>\n",
       "      <td>scales</td>\n",
       "      <td>On the average, men are more arrogant than women</td>\n",
       "      <td>0.530905</td>\n",
       "      <td>True</td>\n",
       "      <td>-1</td>\n",
       "    </tr>\n",
       "    <tr>\n",
       "      <th>55</th>\n",
       "      <td>55</td>\n",
       "      <td>scales</td>\n",
       "      <td>A woman will never be truly fulfilled in life ...</td>\n",
       "      <td>0.206631</td>\n",
       "      <td>True</td>\n",
       "      <td>-1</td>\n",
       "    </tr>\n",
       "    <tr>\n",
       "      <th>...</th>\n",
       "      <td>...</td>\n",
       "      <td>...</td>\n",
       "      <td>...</td>\n",
       "      <td>...</td>\n",
       "      <td>...</td>\n",
       "      <td>...</td>\n",
       "    </tr>\n",
       "    <tr>\n",
       "      <th>13585</th>\n",
       "      <td>13589</td>\n",
       "      <td>scales</td>\n",
       "      <td>Many people have a quality of purity that few ...</td>\n",
       "      <td>0.260322</td>\n",
       "      <td>False</td>\n",
       "      <td>2484</td>\n",
       "    </tr>\n",
       "    <tr>\n",
       "      <th>13604</th>\n",
       "      <td>13608</td>\n",
       "      <td>scales</td>\n",
       "      <td>A man shouldn’t have to worry about birth-control</td>\n",
       "      <td>0.073215</td>\n",
       "      <td>True</td>\n",
       "      <td>-1</td>\n",
       "    </tr>\n",
       "    <tr>\n",
       "      <th>13605</th>\n",
       "      <td>13609</td>\n",
       "      <td>scales</td>\n",
       "      <td>Men cannot relate to other persons as well as ...</td>\n",
       "      <td>0.141320</td>\n",
       "      <td>True</td>\n",
       "      <td>-1</td>\n",
       "    </tr>\n",
       "    <tr>\n",
       "      <th>13613</th>\n",
       "      <td>13617</td>\n",
       "      <td>scales</td>\n",
       "      <td>As head of the household, the father should ha...</td>\n",
       "      <td>0.095359</td>\n",
       "      <td>True</td>\n",
       "      <td>-1</td>\n",
       "    </tr>\n",
       "    <tr>\n",
       "      <th>13614</th>\n",
       "      <td>13618</td>\n",
       "      <td>scales</td>\n",
       "      <td>Parents should be willing to sacrifice their o...</td>\n",
       "      <td>0.322106</td>\n",
       "      <td>False</td>\n",
       "      <td>5153</td>\n",
       "    </tr>\n",
       "  </tbody>\n",
       "</table>\n",
       "<p>878 rows × 6 columns</p>\n",
       "</div>"
      ],
      "text/plain": [
       "          id dataset                                               text  \\\n",
       "14        14  scales                Women have more intuition than men.   \n",
       "18        18  scales  No one should be set on a pedestal by their si...   \n",
       "30        30  scales                    Women do not belong in politics   \n",
       "45        45  scales   On the average, men are more arrogant than women   \n",
       "55        55  scales  A woman will never be truly fulfilled in life ...   \n",
       "...      ...     ...                                                ...   \n",
       "13585  13589  scales  Many people have a quality of purity that few ...   \n",
       "13604  13608  scales  A man shouldn’t have to worry about birth-control   \n",
       "13605  13609  scales  Men cannot relate to other persons as well as ...   \n",
       "13613  13617  scales  As head of the household, the father should ha...   \n",
       "13614  13618  scales  Parents should be willing to sacrifice their o...   \n",
       "\n",
       "       toxicity  sexist  of_id  \n",
       "14     0.321429    True     -1  \n",
       "18     0.081340   False    708  \n",
       "30     0.451443    True     -1  \n",
       "45     0.530905    True     -1  \n",
       "55     0.206631    True     -1  \n",
       "...         ...     ...    ...  \n",
       "13585  0.260322   False   2484  \n",
       "13604  0.073215    True     -1  \n",
       "13605  0.141320    True     -1  \n",
       "13613  0.095359    True     -1  \n",
       "13614  0.322106   False   5153  \n",
       "\n",
       "[878 rows x 6 columns]"
      ]
     },
     "execution_count": 5,
     "metadata": {},
     "output_type": "execute_result"
    }
   ],
   "source": [
    "data[data.dataset == 'scales']"
   ]
  },
  {
   "cell_type": "code",
   "execution_count": 6,
   "id": "f5a3b543",
   "metadata": {
    "ExecuteTime": {
     "end_time": "2022-08-31T07:40:39.539435Z",
     "start_time": "2022-08-31T07:40:39.533438Z"
    }
   },
   "outputs": [],
   "source": [
    "data['longueur_texte'] = data['text'].apply(len)"
   ]
  },
  {
   "cell_type": "code",
   "execution_count": 7,
   "id": "6a28c822",
   "metadata": {
    "ExecuteTime": {
     "end_time": "2022-08-31T07:40:40.647383Z",
     "start_time": "2022-08-31T07:40:39.540915Z"
    }
   },
   "outputs": [
    {
     "data": {
      "image/png": "[encoded data removed]",
      "text/plain": [
       "<Figure size 640x480 with 1 Axes>"
      ]
     },
     "metadata": {},
     "output_type": "display_data"
    }
   ],
   "source": [
    "import seaborn as sns\n",
    "\n",
    "sns.histplot(data=data, x='longueur_texte', hue = 'dataset');"
   ]
  },
  {
   "cell_type": "code",
   "execution_count": 8,
   "id": "52617de3",
   "metadata": {
    "ExecuteTime": {
     "end_time": "2022-08-31T07:40:40.652115Z",
     "start_time": "2022-08-31T07:40:40.648978Z"
    }
   },
   "outputs": [],
   "source": [
    "data = data[data['longueur_texte'] < 150]"
   ]
  },
  {
   "cell_type": "code",
   "execution_count": 9,
   "id": "d960dd55",
   "metadata": {
    "ExecuteTime": {
     "end_time": "2022-08-31T07:40:40.664255Z",
     "start_time": "2022-08-31T07:40:40.655734Z"
    }
   },
   "outputs": [
    {
     "data": {
      "text/html": [
       "<div>\n",
       "<style scoped>\n",
       "    .dataframe tbody tr th:only-of-type {\n",
       "        vertical-align: middle;\n",
       "    }\n",
       "\n",
       "    .dataframe tbody tr th {\n",
       "        vertical-align: top;\n",
       "    }\n",
       "\n",
       "    .dataframe thead th {\n",
       "        text-align: right;\n",
       "    }\n",
       "</style>\n",
       "<table border=\"1\" class=\"dataframe\">\n",
       "  <thead>\n",
       "    <tr style=\"text-align: right;\">\n",
       "      <th></th>\n",
       "      <th>id</th>\n",
       "      <th>dataset</th>\n",
       "      <th>text</th>\n",
       "      <th>toxicity</th>\n",
       "      <th>sexist</th>\n",
       "      <th>of_id</th>\n",
       "      <th>longueur_texte</th>\n",
       "    </tr>\n",
       "  </thead>\n",
       "  <tbody>\n",
       "    <tr>\n",
       "      <th>0</th>\n",
       "      <td>0</td>\n",
       "      <td>other</td>\n",
       "      <td>MENTION3481 i didn't even know random was an o...</td>\n",
       "      <td>0.118180</td>\n",
       "      <td>False</td>\n",
       "      <td>-1</td>\n",
       "      <td>52</td>\n",
       "    </tr>\n",
       "    <tr>\n",
       "      <th>1</th>\n",
       "      <td>1</td>\n",
       "      <td>other</td>\n",
       "      <td>Bottom two should've gone!  #mkr</td>\n",
       "      <td>0.251850</td>\n",
       "      <td>False</td>\n",
       "      <td>-1</td>\n",
       "      <td>32</td>\n",
       "    </tr>\n",
       "    <tr>\n",
       "      <th>2</th>\n",
       "      <td>2</td>\n",
       "      <td>callme</td>\n",
       "      <td>MENTION3111 MENTION3424 ladyboner deserves so ...</td>\n",
       "      <td>0.113331</td>\n",
       "      <td>False</td>\n",
       "      <td>-1</td>\n",
       "      <td>103</td>\n",
       "    </tr>\n",
       "    <tr>\n",
       "      <th>3</th>\n",
       "      <td>3</td>\n",
       "      <td>other</td>\n",
       "      <td>She shall now be known as Sourpuss #MKR #KatAn...</td>\n",
       "      <td>0.531153</td>\n",
       "      <td>False</td>\n",
       "      <td>-1</td>\n",
       "      <td>64</td>\n",
       "    </tr>\n",
       "    <tr>\n",
       "      <th>4</th>\n",
       "      <td>4</td>\n",
       "      <td>other</td>\n",
       "      <td>Tarah W threw a bunch of women under the bus s...</td>\n",
       "      <td>0.118718</td>\n",
       "      <td>False</td>\n",
       "      <td>-1</td>\n",
       "      <td>106</td>\n",
       "    </tr>\n",
       "    <tr>\n",
       "      <th>...</th>\n",
       "      <td>...</td>\n",
       "      <td>...</td>\n",
       "      <td>...</td>\n",
       "      <td>...</td>\n",
       "      <td>...</td>\n",
       "      <td>...</td>\n",
       "      <td>...</td>\n",
       "    </tr>\n",
       "    <tr>\n",
       "      <th>13626</th>\n",
       "      <td>13630</td>\n",
       "      <td>callme</td>\n",
       "      <td>this reminds me of the MENTION3079 situation; ...</td>\n",
       "      <td>0.147044</td>\n",
       "      <td>False</td>\n",
       "      <td>-1</td>\n",
       "      <td>110</td>\n",
       "    </tr>\n",
       "    <tr>\n",
       "      <th>13627</th>\n",
       "      <td>13631</td>\n",
       "      <td>other</td>\n",
       "      <td>#mkr I love Annie and loyld there like a real ...</td>\n",
       "      <td>0.213106</td>\n",
       "      <td>False</td>\n",
       "      <td>-1</td>\n",
       "      <td>81</td>\n",
       "    </tr>\n",
       "    <tr>\n",
       "      <th>13628</th>\n",
       "      <td>13632</td>\n",
       "      <td>other</td>\n",
       "      <td>No u. http://t.co/zOr0eWahSS</td>\n",
       "      <td>0.324702</td>\n",
       "      <td>False</td>\n",
       "      <td>-1</td>\n",
       "      <td>28</td>\n",
       "    </tr>\n",
       "    <tr>\n",
       "      <th>13629</th>\n",
       "      <td>13633</td>\n",
       "      <td>other</td>\n",
       "      <td>#mkr the way kat looks at Annie is like she's ...</td>\n",
       "      <td>0.563036</td>\n",
       "      <td>False</td>\n",
       "      <td>-1</td>\n",
       "      <td>85</td>\n",
       "    </tr>\n",
       "    <tr>\n",
       "      <th>13630</th>\n",
       "      <td>13634</td>\n",
       "      <td>other</td>\n",
       "      <td>#mkr omg the kiss stains on the \"dirty\" mirror...</td>\n",
       "      <td>0.530917</td>\n",
       "      <td>False</td>\n",
       "      <td>-1</td>\n",
       "      <td>72</td>\n",
       "    </tr>\n",
       "  </tbody>\n",
       "</table>\n",
       "<p>13594 rows × 7 columns</p>\n",
       "</div>"
      ],
      "text/plain": [
       "          id dataset                                               text  \\\n",
       "0          0   other  MENTION3481 i didn't even know random was an o...   \n",
       "1          1   other                   Bottom two should've gone!  #mkr   \n",
       "2          2  callme  MENTION3111 MENTION3424 ladyboner deserves so ...   \n",
       "3          3   other  She shall now be known as Sourpuss #MKR #KatAn...   \n",
       "4          4   other  Tarah W threw a bunch of women under the bus s...   \n",
       "...      ...     ...                                                ...   \n",
       "13626  13630  callme  this reminds me of the MENTION3079 situation; ...   \n",
       "13627  13631   other  #mkr I love Annie and loyld there like a real ...   \n",
       "13628  13632   other                       No u. http://t.co/zOr0eWahSS   \n",
       "13629  13633   other  #mkr the way kat looks at Annie is like she's ...   \n",
       "13630  13634   other  #mkr omg the kiss stains on the \"dirty\" mirror...   \n",
       "\n",
       "       toxicity  sexist  of_id  longueur_texte  \n",
       "0      0.118180   False     -1              52  \n",
       "1      0.251850   False     -1              32  \n",
       "2      0.113331   False     -1             103  \n",
       "3      0.531153   False     -1              64  \n",
       "4      0.118718   False     -1             106  \n",
       "...         ...     ...    ...             ...  \n",
       "13626  0.147044   False     -1             110  \n",
       "13627  0.213106   False     -1              81  \n",
       "13628  0.324702   False     -1              28  \n",
       "13629  0.563036   False     -1              85  \n",
       "13630  0.530917   False     -1              72  \n",
       "\n",
       "[13594 rows x 7 columns]"
      ]
     },
     "execution_count": 9,
     "metadata": {},
     "output_type": "execute_result"
    }
   ],
   "source": [
    "data"
   ]
  },
  {
   "cell_type": "markdown",
   "id": "0ac1000e",
   "metadata": {},
   "source": [
    "Comme on ne doit travailler que sur des messages ressemblant à des tweets on va retirer la colonne 'scales'"
   ]
  },
  {
   "cell_type": "code",
   "execution_count": 10,
   "id": "11b9c11e",
   "metadata": {
    "ExecuteTime": {
     "end_time": "2022-08-31T07:40:40.669913Z",
     "start_time": "2022-08-31T07:40:40.665459Z"
    }
   },
   "outputs": [],
   "source": [
    "data = data.drop(data[data.dataset == 'scales'].index)"
   ]
  },
  {
   "cell_type": "code",
   "execution_count": 11,
   "id": "1d9cdd89",
   "metadata": {
    "ExecuteTime": {
     "end_time": "2022-08-31T07:40:40.676929Z",
     "start_time": "2022-08-31T07:40:40.671221Z"
    }
   },
   "outputs": [
    {
     "data": {
      "text/html": [
       "<div>\n",
       "<style scoped>\n",
       "    .dataframe tbody tr th:only-of-type {\n",
       "        vertical-align: middle;\n",
       "    }\n",
       "\n",
       "    .dataframe tbody tr th {\n",
       "        vertical-align: top;\n",
       "    }\n",
       "\n",
       "    .dataframe thead th {\n",
       "        text-align: right;\n",
       "    }\n",
       "</style>\n",
       "<table border=\"1\" class=\"dataframe\">\n",
       "  <thead>\n",
       "    <tr style=\"text-align: right;\">\n",
       "      <th></th>\n",
       "      <th>id</th>\n",
       "      <th>dataset</th>\n",
       "      <th>text</th>\n",
       "      <th>toxicity</th>\n",
       "      <th>sexist</th>\n",
       "      <th>of_id</th>\n",
       "      <th>longueur_texte</th>\n",
       "    </tr>\n",
       "  </thead>\n",
       "  <tbody>\n",
       "    <tr>\n",
       "      <th>0</th>\n",
       "      <td>0</td>\n",
       "      <td>other</td>\n",
       "      <td>MENTION3481 i didn't even know random was an o...</td>\n",
       "      <td>0.118180</td>\n",
       "      <td>False</td>\n",
       "      <td>-1</td>\n",
       "      <td>52</td>\n",
       "    </tr>\n",
       "    <tr>\n",
       "      <th>1</th>\n",
       "      <td>1</td>\n",
       "      <td>other</td>\n",
       "      <td>Bottom two should've gone!  #mkr</td>\n",
       "      <td>0.251850</td>\n",
       "      <td>False</td>\n",
       "      <td>-1</td>\n",
       "      <td>32</td>\n",
       "    </tr>\n",
       "    <tr>\n",
       "      <th>2</th>\n",
       "      <td>2</td>\n",
       "      <td>callme</td>\n",
       "      <td>MENTION3111 MENTION3424 ladyboner deserves so ...</td>\n",
       "      <td>0.113331</td>\n",
       "      <td>False</td>\n",
       "      <td>-1</td>\n",
       "      <td>103</td>\n",
       "    </tr>\n",
       "    <tr>\n",
       "      <th>3</th>\n",
       "      <td>3</td>\n",
       "      <td>other</td>\n",
       "      <td>She shall now be known as Sourpuss #MKR #KatAn...</td>\n",
       "      <td>0.531153</td>\n",
       "      <td>False</td>\n",
       "      <td>-1</td>\n",
       "      <td>64</td>\n",
       "    </tr>\n",
       "    <tr>\n",
       "      <th>4</th>\n",
       "      <td>4</td>\n",
       "      <td>other</td>\n",
       "      <td>Tarah W threw a bunch of women under the bus s...</td>\n",
       "      <td>0.118718</td>\n",
       "      <td>False</td>\n",
       "      <td>-1</td>\n",
       "      <td>106</td>\n",
       "    </tr>\n",
       "  </tbody>\n",
       "</table>\n",
       "</div>"
      ],
      "text/plain": [
       "   id dataset                                               text  toxicity  \\\n",
       "0   0   other  MENTION3481 i didn't even know random was an o...  0.118180   \n",
       "1   1   other                   Bottom two should've gone!  #mkr  0.251850   \n",
       "2   2  callme  MENTION3111 MENTION3424 ladyboner deserves so ...  0.113331   \n",
       "3   3   other  She shall now be known as Sourpuss #MKR #KatAn...  0.531153   \n",
       "4   4   other  Tarah W threw a bunch of women under the bus s...  0.118718   \n",
       "\n",
       "   sexist  of_id  longueur_texte  \n",
       "0   False     -1              52  \n",
       "1   False     -1              32  \n",
       "2   False     -1             103  \n",
       "3   False     -1              64  \n",
       "4   False     -1             106  "
      ]
     },
     "execution_count": 11,
     "metadata": {},
     "output_type": "execute_result"
    }
   ],
   "source": [
    "data.head()"
   ]
  },
  {
   "cell_type": "code",
   "execution_count": 12,
   "id": "19ad9678",
   "metadata": {
    "ExecuteTime": {
     "end_time": "2022-08-31T07:40:40.680872Z",
     "start_time": "2022-08-31T07:40:40.678231Z"
    }
   },
   "outputs": [
    {
     "data": {
      "text/plain": [
       "(12733, 7)"
      ]
     },
     "execution_count": 12,
     "metadata": {},
     "output_type": "execute_result"
    }
   ],
   "source": [
    "data.shape"
   ]
  },
  {
   "cell_type": "markdown",
   "id": "1983e138",
   "metadata": {},
   "source": [
    "Ce data set contient 13 631 datas"
   ]
  },
  {
   "cell_type": "code",
   "execution_count": 13,
   "id": "7b5d3807",
   "metadata": {
    "ExecuteTime": {
     "end_time": "2022-08-31T07:40:40.726532Z",
     "start_time": "2022-08-31T07:40:40.682118Z"
    }
   },
   "outputs": [
    {
     "data": {
      "text/html": [
       "<div>\n",
       "<style scoped>\n",
       "    .dataframe tbody tr th:only-of-type {\n",
       "        vertical-align: middle;\n",
       "    }\n",
       "\n",
       "    .dataframe tbody tr th {\n",
       "        vertical-align: top;\n",
       "    }\n",
       "\n",
       "    .dataframe thead th {\n",
       "        text-align: right;\n",
       "    }\n",
       "</style>\n",
       "<table border=\"1\" class=\"dataframe\">\n",
       "  <thead>\n",
       "    <tr style=\"text-align: right;\">\n",
       "      <th></th>\n",
       "      <th>id</th>\n",
       "      <th>toxicity</th>\n",
       "      <th>of_id</th>\n",
       "      <th>longueur_texte</th>\n",
       "    </tr>\n",
       "  </thead>\n",
       "  <tbody>\n",
       "    <tr>\n",
       "      <th>count</th>\n",
       "      <td>12733.000000</td>\n",
       "      <td>12733.000000</td>\n",
       "      <td>12733.000000</td>\n",
       "      <td>12733.000000</td>\n",
       "    </tr>\n",
       "    <tr>\n",
       "      <th>mean</th>\n",
       "      <td>6832.774994</td>\n",
       "      <td>0.329546</td>\n",
       "      <td>1145.982879</td>\n",
       "      <td>85.810100</td>\n",
       "    </tr>\n",
       "    <tr>\n",
       "      <th>std</th>\n",
       "      <td>3933.452181</td>\n",
       "      <td>0.250109</td>\n",
       "      <td>3019.395224</td>\n",
       "      <td>36.326054</td>\n",
       "    </tr>\n",
       "    <tr>\n",
       "      <th>min</th>\n",
       "      <td>0.000000</td>\n",
       "      <td>0.010310</td>\n",
       "      <td>-1.000000</td>\n",
       "      <td>4.000000</td>\n",
       "    </tr>\n",
       "    <tr>\n",
       "      <th>25%</th>\n",
       "      <td>3432.000000</td>\n",
       "      <td>0.126626</td>\n",
       "      <td>-1.000000</td>\n",
       "      <td>55.000000</td>\n",
       "    </tr>\n",
       "    <tr>\n",
       "      <th>50%</th>\n",
       "      <td>6834.000000</td>\n",
       "      <td>0.243885</td>\n",
       "      <td>-1.000000</td>\n",
       "      <td>88.000000</td>\n",
       "    </tr>\n",
       "    <tr>\n",
       "      <th>75%</th>\n",
       "      <td>10248.000000</td>\n",
       "      <td>0.457413</td>\n",
       "      <td>-1.000000</td>\n",
       "      <td>118.000000</td>\n",
       "    </tr>\n",
       "    <tr>\n",
       "      <th>max</th>\n",
       "      <td>13634.000000</td>\n",
       "      <td>0.991935</td>\n",
       "      <td>13627.000000</td>\n",
       "      <td>149.000000</td>\n",
       "    </tr>\n",
       "  </tbody>\n",
       "</table>\n",
       "</div>"
      ],
      "text/plain": [
       "                 id      toxicity         of_id  longueur_texte\n",
       "count  12733.000000  12733.000000  12733.000000    12733.000000\n",
       "mean    6832.774994      0.329546   1145.982879       85.810100\n",
       "std     3933.452181      0.250109   3019.395224       36.326054\n",
       "min        0.000000      0.010310     -1.000000        4.000000\n",
       "25%     3432.000000      0.126626     -1.000000       55.000000\n",
       "50%     6834.000000      0.243885     -1.000000       88.000000\n",
       "75%    10248.000000      0.457413     -1.000000      118.000000\n",
       "max    13634.000000      0.991935  13627.000000      149.000000"
      ]
     },
     "execution_count": 13,
     "metadata": {},
     "output_type": "execute_result"
    }
   ],
   "source": [
    "data.describe()"
   ]
  },
  {
   "cell_type": "code",
   "execution_count": 14,
   "id": "e8da0348",
   "metadata": {
    "ExecuteTime": {
     "end_time": "2022-08-31T07:40:40.731668Z",
     "start_time": "2022-08-31T07:40:40.727896Z"
    }
   },
   "outputs": [
    {
     "name": "stdout",
     "output_type": "stream",
     "text": [
      "Message non sexist : 90 %\n",
      "Message sexist : 10 %\n"
     ]
    }
   ],
   "source": [
    "print(f'Message non sexist :', round(data.sexist.value_counts()[0]/data.sexist.count()*100), '%')\n",
    "print(f'Message sexist :', round(data.sexist.value_counts()[1]/data.sexist.count()*100), '%')"
   ]
  },
  {
   "cell_type": "code",
   "execution_count": 15,
   "id": "66fe353b",
   "metadata": {
    "ExecuteTime": {
     "end_time": "2022-08-31T07:40:40.736285Z",
     "start_time": "2022-08-31T07:40:40.733008Z"
    }
   },
   "outputs": [
    {
     "data": {
      "text/plain": [
       "id                  int64\n",
       "dataset            object\n",
       "text               object\n",
       "toxicity          float64\n",
       "sexist               bool\n",
       "of_id               int64\n",
       "longueur_texte      int64\n",
       "dtype: object"
      ]
     },
     "execution_count": 15,
     "metadata": {},
     "output_type": "execute_result"
    }
   ],
   "source": [
    "data.dtypes"
   ]
  },
  {
   "cell_type": "markdown",
   "id": "541531b0",
   "metadata": {},
   "source": [
    "Le data set ne contient aucun duplicates"
   ]
  },
  {
   "cell_type": "code",
   "execution_count": 16,
   "id": "b941e7e6",
   "metadata": {
    "ExecuteTime": {
     "end_time": "2022-08-31T07:40:40.746795Z",
     "start_time": "2022-08-31T07:40:40.737267Z"
    }
   },
   "outputs": [
    {
     "data": {
      "text/plain": [
       "0"
      ]
     },
     "execution_count": 16,
     "metadata": {},
     "output_type": "execute_result"
    }
   ],
   "source": [
    "data.duplicated().sum()"
   ]
  },
  {
   "cell_type": "markdown",
   "id": "4e3db73b",
   "metadata": {},
   "source": [
    "Répartition de la Toxicité des messages"
   ]
  },
  {
   "cell_type": "code",
   "execution_count": 17,
   "id": "f4cb5932",
   "metadata": {
    "ExecuteTime": {
     "end_time": "2022-08-31T07:40:40.832925Z",
     "start_time": "2022-08-31T07:40:40.748220Z"
    }
   },
   "outputs": [
    {
     "data": {
      "image/png": "[encoded data removed]",
      "text/plain": [
       "<Figure size 640x480 with 1 Axes>"
      ]
     },
     "metadata": {},
     "output_type": "display_data"
    }
   ],
   "source": [
    "import matplotlib.pyplot as plt\n",
    "plt.hist(data.toxicity);"
   ]
  },
  {
   "cell_type": "markdown",
   "id": "ecd290d4",
   "metadata": {
    "ExecuteTime": {
     "end_time": "2022-08-30T12:06:07.447988Z",
     "start_time": "2022-08-30T12:06:07.437240Z"
    }
   },
   "source": [
    "## création d'un dataframe en vu du merge"
   ]
  },
  {
   "cell_type": "code",
   "execution_count": 18,
   "id": "0d1f015a",
   "metadata": {
    "ExecuteTime": {
     "end_time": "2022-08-31T07:40:40.841055Z",
     "start_time": "2022-08-31T07:40:40.834607Z"
    }
   },
   "outputs": [
    {
     "data": {
      "text/html": [
       "<div>\n",
       "<style scoped>\n",
       "    .dataframe tbody tr th:only-of-type {\n",
       "        vertical-align: middle;\n",
       "    }\n",
       "\n",
       "    .dataframe tbody tr th {\n",
       "        vertical-align: top;\n",
       "    }\n",
       "\n",
       "    .dataframe thead th {\n",
       "        text-align: right;\n",
       "    }\n",
       "</style>\n",
       "<table border=\"1\" class=\"dataframe\">\n",
       "  <thead>\n",
       "    <tr style=\"text-align: right;\">\n",
       "      <th></th>\n",
       "      <th>text</th>\n",
       "      <th>sexist</th>\n",
       "      <th>longueur_texte</th>\n",
       "    </tr>\n",
       "  </thead>\n",
       "  <tbody>\n",
       "    <tr>\n",
       "      <th>0</th>\n",
       "      <td>MENTION3481 i didn't even know random was an o...</td>\n",
       "      <td>False</td>\n",
       "      <td>52</td>\n",
       "    </tr>\n",
       "    <tr>\n",
       "      <th>1</th>\n",
       "      <td>Bottom two should've gone!  #mkr</td>\n",
       "      <td>False</td>\n",
       "      <td>32</td>\n",
       "    </tr>\n",
       "    <tr>\n",
       "      <th>2</th>\n",
       "      <td>MENTION3111 MENTION3424 ladyboner deserves so ...</td>\n",
       "      <td>False</td>\n",
       "      <td>103</td>\n",
       "    </tr>\n",
       "    <tr>\n",
       "      <th>3</th>\n",
       "      <td>She shall now be known as Sourpuss #MKR #KatAn...</td>\n",
       "      <td>False</td>\n",
       "      <td>64</td>\n",
       "    </tr>\n",
       "    <tr>\n",
       "      <th>4</th>\n",
       "      <td>Tarah W threw a bunch of women under the bus s...</td>\n",
       "      <td>False</td>\n",
       "      <td>106</td>\n",
       "    </tr>\n",
       "    <tr>\n",
       "      <th>...</th>\n",
       "      <td>...</td>\n",
       "      <td>...</td>\n",
       "      <td>...</td>\n",
       "    </tr>\n",
       "    <tr>\n",
       "      <th>13626</th>\n",
       "      <td>this reminds me of the MENTION3079 situation; ...</td>\n",
       "      <td>False</td>\n",
       "      <td>110</td>\n",
       "    </tr>\n",
       "    <tr>\n",
       "      <th>13627</th>\n",
       "      <td>#mkr I love Annie and loyld there like a real ...</td>\n",
       "      <td>False</td>\n",
       "      <td>81</td>\n",
       "    </tr>\n",
       "    <tr>\n",
       "      <th>13628</th>\n",
       "      <td>No u. http://t.co/zOr0eWahSS</td>\n",
       "      <td>False</td>\n",
       "      <td>28</td>\n",
       "    </tr>\n",
       "    <tr>\n",
       "      <th>13629</th>\n",
       "      <td>#mkr the way kat looks at Annie is like she's ...</td>\n",
       "      <td>False</td>\n",
       "      <td>85</td>\n",
       "    </tr>\n",
       "    <tr>\n",
       "      <th>13630</th>\n",
       "      <td>#mkr omg the kiss stains on the \"dirty\" mirror...</td>\n",
       "      <td>False</td>\n",
       "      <td>72</td>\n",
       "    </tr>\n",
       "  </tbody>\n",
       "</table>\n",
       "<p>12733 rows × 3 columns</p>\n",
       "</div>"
      ],
      "text/plain": [
       "                                                    text  sexist  \\\n",
       "0      MENTION3481 i didn't even know random was an o...   False   \n",
       "1                       Bottom two should've gone!  #mkr   False   \n",
       "2      MENTION3111 MENTION3424 ladyboner deserves so ...   False   \n",
       "3      She shall now be known as Sourpuss #MKR #KatAn...   False   \n",
       "4      Tarah W threw a bunch of women under the bus s...   False   \n",
       "...                                                  ...     ...   \n",
       "13626  this reminds me of the MENTION3079 situation; ...   False   \n",
       "13627  #mkr I love Annie and loyld there like a real ...   False   \n",
       "13628                       No u. http://t.co/zOr0eWahSS   False   \n",
       "13629  #mkr the way kat looks at Annie is like she's ...   False   \n",
       "13630  #mkr omg the kiss stains on the \"dirty\" mirror...   False   \n",
       "\n",
       "       longueur_texte  \n",
       "0                  52  \n",
       "1                  32  \n",
       "2                 103  \n",
       "3                  64  \n",
       "4                 106  \n",
       "...               ...  \n",
       "13626             110  \n",
       "13627              81  \n",
       "13628              28  \n",
       "13629              85  \n",
       "13630              72  \n",
       "\n",
       "[12733 rows x 3 columns]"
      ]
     },
     "execution_count": 18,
     "metadata": {},
     "output_type": "execute_result"
    }
   ],
   "source": [
    "sexist_df = data[['text','sexist', 'longueur_texte']]\n",
    "sexist_df"
   ]
  },
  {
   "cell_type": "code",
   "execution_count": 19,
   "id": "825be70d",
   "metadata": {
    "ExecuteTime": {
     "end_time": "2022-08-31T07:40:40.848107Z",
     "start_time": "2022-08-31T07:40:40.842605Z"
    }
   },
   "outputs": [
    {
     "data": {
      "text/html": [
       "<div>\n",
       "<style scoped>\n",
       "    .dataframe tbody tr th:only-of-type {\n",
       "        vertical-align: middle;\n",
       "    }\n",
       "\n",
       "    .dataframe tbody tr th {\n",
       "        vertical-align: top;\n",
       "    }\n",
       "\n",
       "    .dataframe thead th {\n",
       "        text-align: right;\n",
       "    }\n",
       "</style>\n",
       "<table border=\"1\" class=\"dataframe\">\n",
       "  <thead>\n",
       "    <tr style=\"text-align: right;\">\n",
       "      <th></th>\n",
       "      <th>text</th>\n",
       "      <th>sexist</th>\n",
       "      <th>longueur_texte</th>\n",
       "    </tr>\n",
       "  </thead>\n",
       "  <tbody>\n",
       "    <tr>\n",
       "      <th>0</th>\n",
       "      <td>MENTION3481 i didn't even know random was an o...</td>\n",
       "      <td>False</td>\n",
       "      <td>52</td>\n",
       "    </tr>\n",
       "    <tr>\n",
       "      <th>1</th>\n",
       "      <td>Bottom two should've gone!  #mkr</td>\n",
       "      <td>False</td>\n",
       "      <td>32</td>\n",
       "    </tr>\n",
       "    <tr>\n",
       "      <th>2</th>\n",
       "      <td>MENTION3111 MENTION3424 ladyboner deserves so ...</td>\n",
       "      <td>False</td>\n",
       "      <td>103</td>\n",
       "    </tr>\n",
       "    <tr>\n",
       "      <th>3</th>\n",
       "      <td>She shall now be known as Sourpuss #MKR #KatAn...</td>\n",
       "      <td>False</td>\n",
       "      <td>64</td>\n",
       "    </tr>\n",
       "    <tr>\n",
       "      <th>4</th>\n",
       "      <td>Tarah W threw a bunch of women under the bus s...</td>\n",
       "      <td>False</td>\n",
       "      <td>106</td>\n",
       "    </tr>\n",
       "    <tr>\n",
       "      <th>...</th>\n",
       "      <td>...</td>\n",
       "      <td>...</td>\n",
       "      <td>...</td>\n",
       "    </tr>\n",
       "    <tr>\n",
       "      <th>13626</th>\n",
       "      <td>this reminds me of the MENTION3079 situation; ...</td>\n",
       "      <td>False</td>\n",
       "      <td>110</td>\n",
       "    </tr>\n",
       "    <tr>\n",
       "      <th>13627</th>\n",
       "      <td>#mkr I love Annie and loyld there like a real ...</td>\n",
       "      <td>False</td>\n",
       "      <td>81</td>\n",
       "    </tr>\n",
       "    <tr>\n",
       "      <th>13628</th>\n",
       "      <td>No u. http://t.co/zOr0eWahSS</td>\n",
       "      <td>False</td>\n",
       "      <td>28</td>\n",
       "    </tr>\n",
       "    <tr>\n",
       "      <th>13629</th>\n",
       "      <td>#mkr the way kat looks at Annie is like she's ...</td>\n",
       "      <td>False</td>\n",
       "      <td>85</td>\n",
       "    </tr>\n",
       "    <tr>\n",
       "      <th>13630</th>\n",
       "      <td>#mkr omg the kiss stains on the \"dirty\" mirror...</td>\n",
       "      <td>False</td>\n",
       "      <td>72</td>\n",
       "    </tr>\n",
       "  </tbody>\n",
       "</table>\n",
       "<p>12733 rows × 3 columns</p>\n",
       "</div>"
      ],
      "text/plain": [
       "                                                    text  sexist  \\\n",
       "0      MENTION3481 i didn't even know random was an o...   False   \n",
       "1                       Bottom two should've gone!  #mkr   False   \n",
       "2      MENTION3111 MENTION3424 ladyboner deserves so ...   False   \n",
       "3      She shall now be known as Sourpuss #MKR #KatAn...   False   \n",
       "4      Tarah W threw a bunch of women under the bus s...   False   \n",
       "...                                                  ...     ...   \n",
       "13626  this reminds me of the MENTION3079 situation; ...   False   \n",
       "13627  #mkr I love Annie and loyld there like a real ...   False   \n",
       "13628                       No u. http://t.co/zOr0eWahSS   False   \n",
       "13629  #mkr the way kat looks at Annie is like she's ...   False   \n",
       "13630  #mkr omg the kiss stains on the \"dirty\" mirror...   False   \n",
       "\n",
       "       longueur_texte  \n",
       "0                  52  \n",
       "1                  32  \n",
       "2                 103  \n",
       "3                  64  \n",
       "4                 106  \n",
       "...               ...  \n",
       "13626             110  \n",
       "13627              81  \n",
       "13628              28  \n",
       "13629              85  \n",
       "13630              72  \n",
       "\n",
       "[12733 rows x 3 columns]"
      ]
     },
     "execution_count": 19,
     "metadata": {},
     "output_type": "execute_result"
    }
   ],
   "source": [
    "sexist_df"
   ]
  },
  {
   "cell_type": "code",
   "execution_count": 20,
   "id": "0478d474",
   "metadata": {
    "ExecuteTime": {
     "end_time": "2022-08-31T07:40:40.856264Z",
     "start_time": "2022-08-31T07:40:40.849950Z"
    }
   },
   "outputs": [
    {
     "data": {
      "text/html": [
       "<div>\n",
       "<style scoped>\n",
       "    .dataframe tbody tr th:only-of-type {\n",
       "        vertical-align: middle;\n",
       "    }\n",
       "\n",
       "    .dataframe tbody tr th {\n",
       "        vertical-align: top;\n",
       "    }\n",
       "\n",
       "    .dataframe thead th {\n",
       "        text-align: right;\n",
       "    }\n",
       "</style>\n",
       "<table border=\"1\" class=\"dataframe\">\n",
       "  <thead>\n",
       "    <tr style=\"text-align: right;\">\n",
       "      <th></th>\n",
       "      <th>text</th>\n",
       "      <th>label</th>\n",
       "      <th>longueur_texte</th>\n",
       "    </tr>\n",
       "  </thead>\n",
       "  <tbody>\n",
       "    <tr>\n",
       "      <th>0</th>\n",
       "      <td>MENTION3481 i didn't even know random was an o...</td>\n",
       "      <td>False</td>\n",
       "      <td>52</td>\n",
       "    </tr>\n",
       "    <tr>\n",
       "      <th>1</th>\n",
       "      <td>Bottom two should've gone!  #mkr</td>\n",
       "      <td>False</td>\n",
       "      <td>32</td>\n",
       "    </tr>\n",
       "    <tr>\n",
       "      <th>2</th>\n",
       "      <td>MENTION3111 MENTION3424 ladyboner deserves so ...</td>\n",
       "      <td>False</td>\n",
       "      <td>103</td>\n",
       "    </tr>\n",
       "    <tr>\n",
       "      <th>3</th>\n",
       "      <td>She shall now be known as Sourpuss #MKR #KatAn...</td>\n",
       "      <td>False</td>\n",
       "      <td>64</td>\n",
       "    </tr>\n",
       "    <tr>\n",
       "      <th>4</th>\n",
       "      <td>Tarah W threw a bunch of women under the bus s...</td>\n",
       "      <td>False</td>\n",
       "      <td>106</td>\n",
       "    </tr>\n",
       "    <tr>\n",
       "      <th>...</th>\n",
       "      <td>...</td>\n",
       "      <td>...</td>\n",
       "      <td>...</td>\n",
       "    </tr>\n",
       "    <tr>\n",
       "      <th>13626</th>\n",
       "      <td>this reminds me of the MENTION3079 situation; ...</td>\n",
       "      <td>False</td>\n",
       "      <td>110</td>\n",
       "    </tr>\n",
       "    <tr>\n",
       "      <th>13627</th>\n",
       "      <td>#mkr I love Annie and loyld there like a real ...</td>\n",
       "      <td>False</td>\n",
       "      <td>81</td>\n",
       "    </tr>\n",
       "    <tr>\n",
       "      <th>13628</th>\n",
       "      <td>No u. http://t.co/zOr0eWahSS</td>\n",
       "      <td>False</td>\n",
       "      <td>28</td>\n",
       "    </tr>\n",
       "    <tr>\n",
       "      <th>13629</th>\n",
       "      <td>#mkr the way kat looks at Annie is like she's ...</td>\n",
       "      <td>False</td>\n",
       "      <td>85</td>\n",
       "    </tr>\n",
       "    <tr>\n",
       "      <th>13630</th>\n",
       "      <td>#mkr omg the kiss stains on the \"dirty\" mirror...</td>\n",
       "      <td>False</td>\n",
       "      <td>72</td>\n",
       "    </tr>\n",
       "  </tbody>\n",
       "</table>\n",
       "<p>12733 rows × 3 columns</p>\n",
       "</div>"
      ],
      "text/plain": [
       "                                                    text  label  \\\n",
       "0      MENTION3481 i didn't even know random was an o...  False   \n",
       "1                       Bottom two should've gone!  #mkr  False   \n",
       "2      MENTION3111 MENTION3424 ladyboner deserves so ...  False   \n",
       "3      She shall now be known as Sourpuss #MKR #KatAn...  False   \n",
       "4      Tarah W threw a bunch of women under the bus s...  False   \n",
       "...                                                  ...    ...   \n",
       "13626  this reminds me of the MENTION3079 situation; ...  False   \n",
       "13627  #mkr I love Annie and loyld there like a real ...  False   \n",
       "13628                       No u. http://t.co/zOr0eWahSS  False   \n",
       "13629  #mkr the way kat looks at Annie is like she's ...  False   \n",
       "13630  #mkr omg the kiss stains on the \"dirty\" mirror...  False   \n",
       "\n",
       "       longueur_texte  \n",
       "0                  52  \n",
       "1                  32  \n",
       "2                 103  \n",
       "3                  64  \n",
       "4                 106  \n",
       "...               ...  \n",
       "13626             110  \n",
       "13627              81  \n",
       "13628              28  \n",
       "13629              85  \n",
       "13630              72  \n",
       "\n",
       "[12733 rows x 3 columns]"
      ]
     },
     "execution_count": 20,
     "metadata": {},
     "output_type": "execute_result"
    }
   ],
   "source": [
    "sexist_df = sexist_df.rename(columns = {'sexist':'label'})\n",
    "sexist_df"
   ]
  },
  {
   "cell_type": "code",
   "execution_count": 21,
   "id": "f03881d3",
   "metadata": {
    "ExecuteTime": {
     "end_time": "2022-08-31T07:40:40.860014Z",
     "start_time": "2022-08-31T07:40:40.857738Z"
    }
   },
   "outputs": [],
   "source": [
    "# create a CSV\n",
    "path = '/Users/camillepettineo/code/sunc33/sexist_speech_recognition/sexist_speech_recognition/data/sexist_df.csv'\n",
    "\n",
    "def df_to_csv(df, path):\n",
    "    df.to_csv(path)\n"
   ]
  },
  {
   "cell_type": "code",
   "execution_count": 22,
   "id": "d6b82491",
   "metadata": {
    "ExecuteTime": {
     "end_time": "2022-08-31T07:40:40.900556Z",
     "start_time": "2022-08-31T07:40:40.861428Z"
    }
   },
   "outputs": [],
   "source": [
    "df_to_csv(sexist_df,path)"
   ]
  },
  {
   "cell_type": "markdown",
   "id": "f9ccd8e1",
   "metadata": {
    "ExecuteTime": {
     "end_time": "2022-08-30T12:26:58.965677Z",
     "start_time": "2022-08-30T12:26:58.957529Z"
    }
   },
   "source": [
    "## Merger les Data_Set"
   ]
  },
  {
   "cell_type": "code",
   "execution_count": 23,
   "id": "caf30d81",
   "metadata": {
    "ExecuteTime": {
     "end_time": "2022-08-31T07:40:40.918607Z",
     "start_time": "2022-08-31T07:40:40.902049Z"
    }
   },
   "outputs": [],
   "source": [
    "sexism_liam_df = pd.read_csv(\"/Users/camillepettineo/code/sunc33/sexist_speech_recognition/sexist_speech_recognition/data/sexism_liam.csv\")"
   ]
  },
  {
   "cell_type": "code",
   "execution_count": 24,
   "id": "65d95a61",
   "metadata": {
    "ExecuteTime": {
     "end_time": "2022-08-31T07:40:40.926737Z",
     "start_time": "2022-08-31T07:40:40.919936Z"
    }
   },
   "outputs": [
    {
     "data": {
      "text/html": [
       "<div>\n",
       "<style scoped>\n",
       "    .dataframe tbody tr th:only-of-type {\n",
       "        vertical-align: middle;\n",
       "    }\n",
       "\n",
       "    .dataframe tbody tr th {\n",
       "        vertical-align: top;\n",
       "    }\n",
       "\n",
       "    .dataframe thead th {\n",
       "        text-align: right;\n",
       "    }\n",
       "</style>\n",
       "<table border=\"1\" class=\"dataframe\">\n",
       "  <thead>\n",
       "    <tr style=\"text-align: right;\">\n",
       "      <th></th>\n",
       "      <th>text</th>\n",
       "      <th>label</th>\n",
       "      <th>longeur_text</th>\n",
       "    </tr>\n",
       "  </thead>\n",
       "  <tbody>\n",
       "    <tr>\n",
       "      <th>0</th>\n",
       "      <td>It is fitting that we are now seeing these str...</td>\n",
       "      <td>none</td>\n",
       "      <td>139</td>\n",
       "    </tr>\n",
       "    <tr>\n",
       "      <th>1</th>\n",
       "      <td>Oh gosh she mentioned me and #ggautoblocker in...</td>\n",
       "      <td>none</td>\n",
       "      <td>104</td>\n",
       "    </tr>\n",
       "    <tr>\n",
       "      <th>2</th>\n",
       "      <td>In this ongoing tragedy, we found our voices &amp;...</td>\n",
       "      <td>none</td>\n",
       "      <td>148</td>\n",
       "    </tr>\n",
       "    <tr>\n",
       "      <th>3</th>\n",
       "      <td>I can't even find the words to describe how mu...</td>\n",
       "      <td>none</td>\n",
       "      <td>139</td>\n",
       "    </tr>\n",
       "    <tr>\n",
       "      <th>4</th>\n",
       "      <td>We talk about GamerGate a lot. But the truth i...</td>\n",
       "      <td>none</td>\n",
       "      <td>117</td>\n",
       "    </tr>\n",
       "    <tr>\n",
       "      <th>...</th>\n",
       "      <td>...</td>\n",
       "      <td>...</td>\n",
       "      <td>...</td>\n",
       "    </tr>\n",
       "    <tr>\n",
       "      <th>10178</th>\n",
       "      <td>I like how GG took TB's statement at http://t....</td>\n",
       "      <td>none</td>\n",
       "      <td>115</td>\n",
       "    </tr>\n",
       "    <tr>\n",
       "      <th>10179</th>\n",
       "      <td>According to ralphreject, GDC is just a place ...</td>\n",
       "      <td>none</td>\n",
       "      <td>139</td>\n",
       "    </tr>\n",
       "    <tr>\n",
       "      <th>10180</th>\n",
       "      <td>nichegamer got blacklisted by a gaming company...</td>\n",
       "      <td>none</td>\n",
       "      <td>130</td>\n",
       "    </tr>\n",
       "    <tr>\n",
       "      <th>10181</th>\n",
       "      <td>countdown to more companies following suit aft...</td>\n",
       "      <td>none</td>\n",
       "      <td>81</td>\n",
       "    </tr>\n",
       "    <tr>\n",
       "      <th>10182</th>\n",
       "      <td>YES. I LOVE @lenadunham. http://t.co/ycgTBmmdxb</td>\n",
       "      <td>none</td>\n",
       "      <td>47</td>\n",
       "    </tr>\n",
       "  </tbody>\n",
       "</table>\n",
       "<p>10183 rows × 3 columns</p>\n",
       "</div>"
      ],
      "text/plain": [
       "                                                    text label  longeur_text\n",
       "0      It is fitting that we are now seeing these str...  none           139\n",
       "1      Oh gosh she mentioned me and #ggautoblocker in...  none           104\n",
       "2      In this ongoing tragedy, we found our voices &...  none           148\n",
       "3      I can't even find the words to describe how mu...  none           139\n",
       "4      We talk about GamerGate a lot. But the truth i...  none           117\n",
       "...                                                  ...   ...           ...\n",
       "10178  I like how GG took TB's statement at http://t....  none           115\n",
       "10179  According to ralphreject, GDC is just a place ...  none           139\n",
       "10180  nichegamer got blacklisted by a gaming company...  none           130\n",
       "10181  countdown to more companies following suit aft...  none            81\n",
       "10182    YES. I LOVE @lenadunham. http://t.co/ycgTBmmdxb  none            47\n",
       "\n",
       "[10183 rows x 3 columns]"
      ]
     },
     "execution_count": 24,
     "metadata": {},
     "output_type": "execute_result"
    }
   ],
   "source": [
    "sexism_liam_df = sexism_liam_df.drop(columns = 'Unnamed: 0')\n",
    "sexism_liam_df"
   ]
  },
  {
   "cell_type": "code",
   "execution_count": 25,
   "id": "2397cb78",
   "metadata": {
    "ExecuteTime": {
     "end_time": "2022-08-31T07:40:40.934722Z",
     "start_time": "2022-08-31T07:40:40.928192Z"
    }
   },
   "outputs": [
    {
     "data": {
      "text/html": [
       "<div>\n",
       "<style scoped>\n",
       "    .dataframe tbody tr th:only-of-type {\n",
       "        vertical-align: middle;\n",
       "    }\n",
       "\n",
       "    .dataframe tbody tr th {\n",
       "        vertical-align: top;\n",
       "    }\n",
       "\n",
       "    .dataframe thead th {\n",
       "        text-align: right;\n",
       "    }\n",
       "</style>\n",
       "<table border=\"1\" class=\"dataframe\">\n",
       "  <thead>\n",
       "    <tr style=\"text-align: right;\">\n",
       "      <th></th>\n",
       "      <th>text</th>\n",
       "      <th>label</th>\n",
       "      <th>longueur_texte</th>\n",
       "    </tr>\n",
       "  </thead>\n",
       "  <tbody>\n",
       "    <tr>\n",
       "      <th>0</th>\n",
       "      <td>It is fitting that we are now seeing these str...</td>\n",
       "      <td>none</td>\n",
       "      <td>139</td>\n",
       "    </tr>\n",
       "    <tr>\n",
       "      <th>1</th>\n",
       "      <td>Oh gosh she mentioned me and #ggautoblocker in...</td>\n",
       "      <td>none</td>\n",
       "      <td>104</td>\n",
       "    </tr>\n",
       "    <tr>\n",
       "      <th>2</th>\n",
       "      <td>In this ongoing tragedy, we found our voices &amp;...</td>\n",
       "      <td>none</td>\n",
       "      <td>148</td>\n",
       "    </tr>\n",
       "    <tr>\n",
       "      <th>3</th>\n",
       "      <td>I can't even find the words to describe how mu...</td>\n",
       "      <td>none</td>\n",
       "      <td>139</td>\n",
       "    </tr>\n",
       "    <tr>\n",
       "      <th>4</th>\n",
       "      <td>We talk about GamerGate a lot. But the truth i...</td>\n",
       "      <td>none</td>\n",
       "      <td>117</td>\n",
       "    </tr>\n",
       "    <tr>\n",
       "      <th>...</th>\n",
       "      <td>...</td>\n",
       "      <td>...</td>\n",
       "      <td>...</td>\n",
       "    </tr>\n",
       "    <tr>\n",
       "      <th>10178</th>\n",
       "      <td>I like how GG took TB's statement at http://t....</td>\n",
       "      <td>none</td>\n",
       "      <td>115</td>\n",
       "    </tr>\n",
       "    <tr>\n",
       "      <th>10179</th>\n",
       "      <td>According to ralphreject, GDC is just a place ...</td>\n",
       "      <td>none</td>\n",
       "      <td>139</td>\n",
       "    </tr>\n",
       "    <tr>\n",
       "      <th>10180</th>\n",
       "      <td>nichegamer got blacklisted by a gaming company...</td>\n",
       "      <td>none</td>\n",
       "      <td>130</td>\n",
       "    </tr>\n",
       "    <tr>\n",
       "      <th>10181</th>\n",
       "      <td>countdown to more companies following suit aft...</td>\n",
       "      <td>none</td>\n",
       "      <td>81</td>\n",
       "    </tr>\n",
       "    <tr>\n",
       "      <th>10182</th>\n",
       "      <td>YES. I LOVE @lenadunham. http://t.co/ycgTBmmdxb</td>\n",
       "      <td>none</td>\n",
       "      <td>47</td>\n",
       "    </tr>\n",
       "  </tbody>\n",
       "</table>\n",
       "<p>10183 rows × 3 columns</p>\n",
       "</div>"
      ],
      "text/plain": [
       "                                                    text label  longueur_texte\n",
       "0      It is fitting that we are now seeing these str...  none             139\n",
       "1      Oh gosh she mentioned me and #ggautoblocker in...  none             104\n",
       "2      In this ongoing tragedy, we found our voices &...  none             148\n",
       "3      I can't even find the words to describe how mu...  none             139\n",
       "4      We talk about GamerGate a lot. But the truth i...  none             117\n",
       "...                                                  ...   ...             ...\n",
       "10178  I like how GG took TB's statement at http://t....  none             115\n",
       "10179  According to ralphreject, GDC is just a place ...  none             139\n",
       "10180  nichegamer got blacklisted by a gaming company...  none             130\n",
       "10181  countdown to more companies following suit aft...  none              81\n",
       "10182    YES. I LOVE @lenadunham. http://t.co/ycgTBmmdxb  none              47\n",
       "\n",
       "[10183 rows x 3 columns]"
      ]
     },
     "execution_count": 25,
     "metadata": {},
     "output_type": "execute_result"
    }
   ],
   "source": [
    "sexism_liam_df = sexism_liam_df.rename(columns = {'longeur_text':'longueur_texte'})\n",
    "sexism_liam_df"
   ]
  },
  {
   "cell_type": "code",
   "execution_count": 26,
   "id": "6833192f",
   "metadata": {
    "ExecuteTime": {
     "end_time": "2022-08-31T07:40:40.939831Z",
     "start_time": "2022-08-31T07:40:40.936253Z"
    }
   },
   "outputs": [
    {
     "data": {
      "text/plain": [
       "False    11465\n",
       "True      1268\n",
       "Name: label, dtype: int64"
      ]
     },
     "execution_count": 26,
     "metadata": {},
     "output_type": "execute_result"
    }
   ],
   "source": [
    "sexist_df.label\t.value_counts()"
   ]
  },
  {
   "cell_type": "code",
   "execution_count": 27,
   "id": "0ad72842",
   "metadata": {
    "ExecuteTime": {
     "end_time": "2022-08-31T07:40:40.954548Z",
     "start_time": "2022-08-31T07:40:40.948319Z"
    }
   },
   "outputs": [
    {
     "data": {
      "text/html": [
       "<div>\n",
       "<style scoped>\n",
       "    .dataframe tbody tr th:only-of-type {\n",
       "        vertical-align: middle;\n",
       "    }\n",
       "\n",
       "    .dataframe tbody tr th {\n",
       "        vertical-align: top;\n",
       "    }\n",
       "\n",
       "    .dataframe thead th {\n",
       "        text-align: right;\n",
       "    }\n",
       "</style>\n",
       "<table border=\"1\" class=\"dataframe\">\n",
       "  <thead>\n",
       "    <tr style=\"text-align: right;\">\n",
       "      <th></th>\n",
       "      <th>text</th>\n",
       "      <th>label</th>\n",
       "      <th>longueur_texte</th>\n",
       "    </tr>\n",
       "  </thead>\n",
       "  <tbody>\n",
       "    <tr>\n",
       "      <th>0</th>\n",
       "      <td>MENTION3481 i didn't even know random was an o...</td>\n",
       "      <td>False</td>\n",
       "      <td>52</td>\n",
       "    </tr>\n",
       "    <tr>\n",
       "      <th>1</th>\n",
       "      <td>Bottom two should've gone!  #mkr</td>\n",
       "      <td>False</td>\n",
       "      <td>32</td>\n",
       "    </tr>\n",
       "    <tr>\n",
       "      <th>2</th>\n",
       "      <td>MENTION3111 MENTION3424 ladyboner deserves so ...</td>\n",
       "      <td>False</td>\n",
       "      <td>103</td>\n",
       "    </tr>\n",
       "    <tr>\n",
       "      <th>3</th>\n",
       "      <td>She shall now be known as Sourpuss #MKR #KatAn...</td>\n",
       "      <td>False</td>\n",
       "      <td>64</td>\n",
       "    </tr>\n",
       "    <tr>\n",
       "      <th>4</th>\n",
       "      <td>Tarah W threw a bunch of women under the bus s...</td>\n",
       "      <td>False</td>\n",
       "      <td>106</td>\n",
       "    </tr>\n",
       "    <tr>\n",
       "      <th>...</th>\n",
       "      <td>...</td>\n",
       "      <td>...</td>\n",
       "      <td>...</td>\n",
       "    </tr>\n",
       "    <tr>\n",
       "      <th>13626</th>\n",
       "      <td>this reminds me of the MENTION3079 situation; ...</td>\n",
       "      <td>False</td>\n",
       "      <td>110</td>\n",
       "    </tr>\n",
       "    <tr>\n",
       "      <th>13627</th>\n",
       "      <td>#mkr I love Annie and loyld there like a real ...</td>\n",
       "      <td>False</td>\n",
       "      <td>81</td>\n",
       "    </tr>\n",
       "    <tr>\n",
       "      <th>13628</th>\n",
       "      <td>No u. http://t.co/zOr0eWahSS</td>\n",
       "      <td>False</td>\n",
       "      <td>28</td>\n",
       "    </tr>\n",
       "    <tr>\n",
       "      <th>13629</th>\n",
       "      <td>#mkr the way kat looks at Annie is like she's ...</td>\n",
       "      <td>False</td>\n",
       "      <td>85</td>\n",
       "    </tr>\n",
       "    <tr>\n",
       "      <th>13630</th>\n",
       "      <td>#mkr omg the kiss stains on the \"dirty\" mirror...</td>\n",
       "      <td>False</td>\n",
       "      <td>72</td>\n",
       "    </tr>\n",
       "  </tbody>\n",
       "</table>\n",
       "<p>12733 rows × 3 columns</p>\n",
       "</div>"
      ],
      "text/plain": [
       "                                                    text  label  \\\n",
       "0      MENTION3481 i didn't even know random was an o...  False   \n",
       "1                       Bottom two should've gone!  #mkr  False   \n",
       "2      MENTION3111 MENTION3424 ladyboner deserves so ...  False   \n",
       "3      She shall now be known as Sourpuss #MKR #KatAn...  False   \n",
       "4      Tarah W threw a bunch of women under the bus s...  False   \n",
       "...                                                  ...    ...   \n",
       "13626  this reminds me of the MENTION3079 situation; ...  False   \n",
       "13627  #mkr I love Annie and loyld there like a real ...  False   \n",
       "13628                       No u. http://t.co/zOr0eWahSS  False   \n",
       "13629  #mkr the way kat looks at Annie is like she's ...  False   \n",
       "13630  #mkr omg the kiss stains on the \"dirty\" mirror...  False   \n",
       "\n",
       "       longueur_texte  \n",
       "0                  52  \n",
       "1                  32  \n",
       "2                 103  \n",
       "3                  64  \n",
       "4                 106  \n",
       "...               ...  \n",
       "13626             110  \n",
       "13627              81  \n",
       "13628              28  \n",
       "13629              85  \n",
       "13630              72  \n",
       "\n",
       "[12733 rows x 3 columns]"
      ]
     },
     "execution_count": 27,
     "metadata": {},
     "output_type": "execute_result"
    }
   ],
   "source": [
    "sexist_df"
   ]
  },
  {
   "cell_type": "code",
   "execution_count": 28,
   "id": "83a4afee",
   "metadata": {
    "ExecuteTime": {
     "end_time": "2022-08-31T07:40:40.959556Z",
     "start_time": "2022-08-31T07:40:40.956075Z"
    }
   },
   "outputs": [
    {
     "name": "stderr",
     "output_type": "stream",
     "text": [
      "/var/folders/bx/7srdzvwx4v1_rpc2gyh8tn3h0000gn/T/ipykernel_2973/1203093076.py:1: FutureWarning: The frame.append method is deprecated and will be removed from pandas in a future version. Use pandas.concat instead.\n",
      "  sm_df = sexism_liam_df.append(sexist_df)\n"
     ]
    }
   ],
   "source": [
    "sm_df = sexism_liam_df.append(sexist_df)"
   ]
  },
  {
   "cell_type": "code",
   "execution_count": 29,
   "id": "d8974da1",
   "metadata": {
    "ExecuteTime": {
     "end_time": "2022-08-31T07:40:40.966858Z",
     "start_time": "2022-08-31T07:40:40.961296Z"
    }
   },
   "outputs": [
    {
     "data": {
      "text/html": [
       "<div>\n",
       "<style scoped>\n",
       "    .dataframe tbody tr th:only-of-type {\n",
       "        vertical-align: middle;\n",
       "    }\n",
       "\n",
       "    .dataframe tbody tr th {\n",
       "        vertical-align: top;\n",
       "    }\n",
       "\n",
       "    .dataframe thead th {\n",
       "        text-align: right;\n",
       "    }\n",
       "</style>\n",
       "<table border=\"1\" class=\"dataframe\">\n",
       "  <thead>\n",
       "    <tr style=\"text-align: right;\">\n",
       "      <th></th>\n",
       "      <th>text</th>\n",
       "      <th>label</th>\n",
       "      <th>longueur_texte</th>\n",
       "    </tr>\n",
       "  </thead>\n",
       "  <tbody>\n",
       "    <tr>\n",
       "      <th>0</th>\n",
       "      <td>It is fitting that we are now seeing these str...</td>\n",
       "      <td>none</td>\n",
       "      <td>139</td>\n",
       "    </tr>\n",
       "    <tr>\n",
       "      <th>1</th>\n",
       "      <td>Oh gosh she mentioned me and #ggautoblocker in...</td>\n",
       "      <td>none</td>\n",
       "      <td>104</td>\n",
       "    </tr>\n",
       "    <tr>\n",
       "      <th>2</th>\n",
       "      <td>In this ongoing tragedy, we found our voices &amp;...</td>\n",
       "      <td>none</td>\n",
       "      <td>148</td>\n",
       "    </tr>\n",
       "    <tr>\n",
       "      <th>3</th>\n",
       "      <td>I can't even find the words to describe how mu...</td>\n",
       "      <td>none</td>\n",
       "      <td>139</td>\n",
       "    </tr>\n",
       "    <tr>\n",
       "      <th>4</th>\n",
       "      <td>We talk about GamerGate a lot. But the truth i...</td>\n",
       "      <td>none</td>\n",
       "      <td>117</td>\n",
       "    </tr>\n",
       "    <tr>\n",
       "      <th>...</th>\n",
       "      <td>...</td>\n",
       "      <td>...</td>\n",
       "      <td>...</td>\n",
       "    </tr>\n",
       "    <tr>\n",
       "      <th>13626</th>\n",
       "      <td>this reminds me of the MENTION3079 situation; ...</td>\n",
       "      <td>False</td>\n",
       "      <td>110</td>\n",
       "    </tr>\n",
       "    <tr>\n",
       "      <th>13627</th>\n",
       "      <td>#mkr I love Annie and loyld there like a real ...</td>\n",
       "      <td>False</td>\n",
       "      <td>81</td>\n",
       "    </tr>\n",
       "    <tr>\n",
       "      <th>13628</th>\n",
       "      <td>No u. http://t.co/zOr0eWahSS</td>\n",
       "      <td>False</td>\n",
       "      <td>28</td>\n",
       "    </tr>\n",
       "    <tr>\n",
       "      <th>13629</th>\n",
       "      <td>#mkr the way kat looks at Annie is like she's ...</td>\n",
       "      <td>False</td>\n",
       "      <td>85</td>\n",
       "    </tr>\n",
       "    <tr>\n",
       "      <th>13630</th>\n",
       "      <td>#mkr omg the kiss stains on the \"dirty\" mirror...</td>\n",
       "      <td>False</td>\n",
       "      <td>72</td>\n",
       "    </tr>\n",
       "  </tbody>\n",
       "</table>\n",
       "<p>22916 rows × 3 columns</p>\n",
       "</div>"
      ],
      "text/plain": [
       "                                                    text  label  \\\n",
       "0      It is fitting that we are now seeing these str...   none   \n",
       "1      Oh gosh she mentioned me and #ggautoblocker in...   none   \n",
       "2      In this ongoing tragedy, we found our voices &...   none   \n",
       "3      I can't even find the words to describe how mu...   none   \n",
       "4      We talk about GamerGate a lot. But the truth i...   none   \n",
       "...                                                  ...    ...   \n",
       "13626  this reminds me of the MENTION3079 situation; ...  False   \n",
       "13627  #mkr I love Annie and loyld there like a real ...  False   \n",
       "13628                       No u. http://t.co/zOr0eWahSS  False   \n",
       "13629  #mkr the way kat looks at Annie is like she's ...  False   \n",
       "13630  #mkr omg the kiss stains on the \"dirty\" mirror...  False   \n",
       "\n",
       "       longueur_texte  \n",
       "0                 139  \n",
       "1                 104  \n",
       "2                 148  \n",
       "3                 139  \n",
       "4                 117  \n",
       "...               ...  \n",
       "13626             110  \n",
       "13627              81  \n",
       "13628              28  \n",
       "13629              85  \n",
       "13630              72  \n",
       "\n",
       "[22916 rows x 3 columns]"
      ]
     },
     "execution_count": 29,
     "metadata": {},
     "output_type": "execute_result"
    }
   ],
   "source": [
    "sm_df"
   ]
  },
  {
   "cell_type": "markdown",
   "id": "dd7b660a",
   "metadata": {},
   "source": [
    "## Déterminer le X et le y :"
   ]
  },
  {
   "cell_type": "code",
   "execution_count": 30,
   "id": "a51d4c57",
   "metadata": {
    "ExecuteTime": {
     "end_time": "2022-08-31T07:40:40.972782Z",
     "start_time": "2022-08-31T07:40:40.968230Z"
    }
   },
   "outputs": [
    {
     "data": {
      "text/plain": [
       "False     11465\n",
       "none       7499\n",
       "sexism     2672\n",
       "True       1268\n",
       "racism       12\n",
       "Name: label, dtype: int64"
      ]
     },
     "execution_count": 30,
     "metadata": {},
     "output_type": "execute_result"
    }
   ],
   "source": [
    "sm_df['label'].value_counts()"
   ]
  },
  {
   "cell_type": "markdown",
   "id": "eaf7aaca",
   "metadata": {},
   "source": [
    "On drop les racistes"
   ]
  },
  {
   "cell_type": "code",
   "execution_count": 31,
   "id": "6a894769",
   "metadata": {
    "ExecuteTime": {
     "end_time": "2022-08-31T07:40:40.979360Z",
     "start_time": "2022-08-31T07:40:40.974121Z"
    }
   },
   "outputs": [],
   "source": [
    "sm_df = sm_df[sm_df['label']!= 'racism']"
   ]
  },
  {
   "cell_type": "code",
   "execution_count": 32,
   "id": "88ea9c8f",
   "metadata": {
    "ExecuteTime": {
     "end_time": "2022-08-31T07:40:40.985465Z",
     "start_time": "2022-08-31T07:40:40.980771Z"
    }
   },
   "outputs": [
    {
     "data": {
      "text/plain": [
       "False     11465\n",
       "none       7499\n",
       "sexism     2672\n",
       "True       1268\n",
       "Name: label, dtype: int64"
      ]
     },
     "execution_count": 32,
     "metadata": {},
     "output_type": "execute_result"
    }
   ],
   "source": [
    "sm_df['label'].value_counts()"
   ]
  },
  {
   "cell_type": "code",
   "execution_count": 33,
   "id": "e70f3625",
   "metadata": {
    "ExecuteTime": {
     "end_time": "2022-08-31T07:40:40.995326Z",
     "start_time": "2022-08-31T07:40:40.986789Z"
    }
   },
   "outputs": [
    {
     "name": "stderr",
     "output_type": "stream",
     "text": [
      "/var/folders/bx/7srdzvwx4v1_rpc2gyh8tn3h0000gn/T/ipykernel_2973/3013560896.py:1: SettingWithCopyWarning: \n",
      "A value is trying to be set on a copy of a slice from a DataFrame.\n",
      "Try using .loc[row_indexer,col_indexer] = value instead\n",
      "\n",
      "See the caveats in the documentation: https://pandas.pydata.org/pandas-docs/stable/user_guide/indexing.html#returning-a-view-versus-a-copy\n",
      "  sm_df['label'] = sm_df['label'].map({False : 0, 'none': 0, 'sexism': 1, True : 1})\n"
     ]
    },
    {
     "data": {
      "text/html": [
       "<div>\n",
       "<style scoped>\n",
       "    .dataframe tbody tr th:only-of-type {\n",
       "        vertical-align: middle;\n",
       "    }\n",
       "\n",
       "    .dataframe tbody tr th {\n",
       "        vertical-align: top;\n",
       "    }\n",
       "\n",
       "    .dataframe thead th {\n",
       "        text-align: right;\n",
       "    }\n",
       "</style>\n",
       "<table border=\"1\" class=\"dataframe\">\n",
       "  <thead>\n",
       "    <tr style=\"text-align: right;\">\n",
       "      <th></th>\n",
       "      <th>text</th>\n",
       "      <th>label</th>\n",
       "      <th>longueur_texte</th>\n",
       "    </tr>\n",
       "  </thead>\n",
       "  <tbody>\n",
       "    <tr>\n",
       "      <th>0</th>\n",
       "      <td>It is fitting that we are now seeing these str...</td>\n",
       "      <td>0</td>\n",
       "      <td>139</td>\n",
       "    </tr>\n",
       "    <tr>\n",
       "      <th>1</th>\n",
       "      <td>Oh gosh she mentioned me and #ggautoblocker in...</td>\n",
       "      <td>0</td>\n",
       "      <td>104</td>\n",
       "    </tr>\n",
       "    <tr>\n",
       "      <th>2</th>\n",
       "      <td>In this ongoing tragedy, we found our voices &amp;...</td>\n",
       "      <td>0</td>\n",
       "      <td>148</td>\n",
       "    </tr>\n",
       "    <tr>\n",
       "      <th>3</th>\n",
       "      <td>I can't even find the words to describe how mu...</td>\n",
       "      <td>0</td>\n",
       "      <td>139</td>\n",
       "    </tr>\n",
       "    <tr>\n",
       "      <th>4</th>\n",
       "      <td>We talk about GamerGate a lot. But the truth i...</td>\n",
       "      <td>0</td>\n",
       "      <td>117</td>\n",
       "    </tr>\n",
       "    <tr>\n",
       "      <th>...</th>\n",
       "      <td>...</td>\n",
       "      <td>...</td>\n",
       "      <td>...</td>\n",
       "    </tr>\n",
       "    <tr>\n",
       "      <th>13626</th>\n",
       "      <td>this reminds me of the MENTION3079 situation; ...</td>\n",
       "      <td>0</td>\n",
       "      <td>110</td>\n",
       "    </tr>\n",
       "    <tr>\n",
       "      <th>13627</th>\n",
       "      <td>#mkr I love Annie and loyld there like a real ...</td>\n",
       "      <td>0</td>\n",
       "      <td>81</td>\n",
       "    </tr>\n",
       "    <tr>\n",
       "      <th>13628</th>\n",
       "      <td>No u. http://t.co/zOr0eWahSS</td>\n",
       "      <td>0</td>\n",
       "      <td>28</td>\n",
       "    </tr>\n",
       "    <tr>\n",
       "      <th>13629</th>\n",
       "      <td>#mkr the way kat looks at Annie is like she's ...</td>\n",
       "      <td>0</td>\n",
       "      <td>85</td>\n",
       "    </tr>\n",
       "    <tr>\n",
       "      <th>13630</th>\n",
       "      <td>#mkr omg the kiss stains on the \"dirty\" mirror...</td>\n",
       "      <td>0</td>\n",
       "      <td>72</td>\n",
       "    </tr>\n",
       "  </tbody>\n",
       "</table>\n",
       "<p>22904 rows × 3 columns</p>\n",
       "</div>"
      ],
      "text/plain": [
       "                                                    text  label  \\\n",
       "0      It is fitting that we are now seeing these str...      0   \n",
       "1      Oh gosh she mentioned me and #ggautoblocker in...      0   \n",
       "2      In this ongoing tragedy, we found our voices &...      0   \n",
       "3      I can't even find the words to describe how mu...      0   \n",
       "4      We talk about GamerGate a lot. But the truth i...      0   \n",
       "...                                                  ...    ...   \n",
       "13626  this reminds me of the MENTION3079 situation; ...      0   \n",
       "13627  #mkr I love Annie and loyld there like a real ...      0   \n",
       "13628                       No u. http://t.co/zOr0eWahSS      0   \n",
       "13629  #mkr the way kat looks at Annie is like she's ...      0   \n",
       "13630  #mkr omg the kiss stains on the \"dirty\" mirror...      0   \n",
       "\n",
       "       longueur_texte  \n",
       "0                 139  \n",
       "1                 104  \n",
       "2                 148  \n",
       "3                 139  \n",
       "4                 117  \n",
       "...               ...  \n",
       "13626             110  \n",
       "13627              81  \n",
       "13628              28  \n",
       "13629              85  \n",
       "13630              72  \n",
       "\n",
       "[22904 rows x 3 columns]"
      ]
     },
     "execution_count": 33,
     "metadata": {},
     "output_type": "execute_result"
    }
   ],
   "source": [
    "sm_df['label'] = sm_df['label'].map({False : 0, 'none': 0, 'sexism': 1, True : 1})\n",
    "sm_df"
   ]
  },
  {
   "cell_type": "code",
   "execution_count": 34,
   "id": "58e9d1e9",
   "metadata": {
    "ExecuteTime": {
     "end_time": "2022-08-31T07:40:41.002970Z",
     "start_time": "2022-08-31T07:40:40.996844Z"
    }
   },
   "outputs": [
    {
     "data": {
      "text/plain": [
       "0    18964\n",
       "1     3940\n",
       "Name: label, dtype: int64"
      ]
     },
     "execution_count": 34,
     "metadata": {},
     "output_type": "execute_result"
    }
   ],
   "source": [
    "sm_df['label'].value_counts()"
   ]
  },
  {
   "cell_type": "code",
   "execution_count": 49,
   "id": "2b0a1748",
   "metadata": {
    "ExecuteTime": {
     "end_time": "2022-08-31T07:41:45.987944Z",
     "start_time": "2022-08-31T07:41:45.980778Z"
    },
    "scrolled": true
   },
   "outputs": [],
   "source": [
    "# X = sm_df.drop(columns = 'label').drop(columns = 'longueur_texte')\n",
    "# X"
   ]
  },
  {
   "cell_type": "markdown",
   "id": "75b88848",
   "metadata": {},
   "source": [
    "Pour créer le y nous allons utiliser un OneEncoder if binary pour transformer les False et True en 0 et 1."
   ]
  },
  {
   "cell_type": "code",
   "execution_count": 36,
   "id": "c16b4b93",
   "metadata": {
    "ExecuteTime": {
     "end_time": "2022-08-31T07:40:41.027282Z",
     "start_time": "2022-08-31T07:40:41.025254Z"
    }
   },
   "outputs": [],
   "source": [
    "# from sklearn.preprocessing import OneHotEncoder\n",
    "\n",
    "# ohe = OneHotEncoder(drop='if_binary', sparse = False) # Instantiate encoder for binary feature\n",
    "\n",
    "# ohe.fit(X[['sexist']]) # Fit encoder\n",
    "\n",
    "# X['sexist'] = ohe.transform(X[['sexist']]) # Encode Street"
   ]
  },
  {
   "cell_type": "code",
   "execution_count": 50,
   "id": "a8c4e3f3",
   "metadata": {
    "ExecuteTime": {
     "end_time": "2022-08-31T07:41:51.649797Z",
     "start_time": "2022-08-31T07:41:51.638508Z"
    }
   },
   "outputs": [],
   "source": [
    "# X.head()"
   ]
  },
  {
   "cell_type": "code",
   "execution_count": 51,
   "id": "faf3666c",
   "metadata": {
    "ExecuteTime": {
     "end_time": "2022-08-31T07:41:55.139579Z",
     "start_time": "2022-08-31T07:41:55.131725Z"
    }
   },
   "outputs": [],
   "source": [
    "# y = sm_df['label']\n",
    "# y"
   ]
  },
  {
   "cell_type": "markdown",
   "id": "b8b6d438",
   "metadata": {},
   "source": [
    "## SEPARATION DES DATA (60% normal - 40% sexiste)"
   ]
  },
  {
   "cell_type": "code",
   "execution_count": 52,
   "id": "bead722e",
   "metadata": {
    "ExecuteTime": {
     "end_time": "2022-08-31T07:42:02.405221Z",
     "start_time": "2022-08-31T07:42:02.384394Z"
    },
    "scrolled": true
   },
   "outputs": [
    {
     "data": {
      "text/html": [
       "<div>\n",
       "<style scoped>\n",
       "    .dataframe tbody tr th:only-of-type {\n",
       "        vertical-align: middle;\n",
       "    }\n",
       "\n",
       "    .dataframe tbody tr th {\n",
       "        vertical-align: top;\n",
       "    }\n",
       "\n",
       "    .dataframe thead th {\n",
       "        text-align: right;\n",
       "    }\n",
       "</style>\n",
       "<table border=\"1\" class=\"dataframe\">\n",
       "  <thead>\n",
       "    <tr style=\"text-align: right;\">\n",
       "      <th></th>\n",
       "      <th>text</th>\n",
       "      <th>label</th>\n",
       "    </tr>\n",
       "  </thead>\n",
       "  <tbody>\n",
       "    <tr>\n",
       "      <th>0</th>\n",
       "      <td>It is fitting that we are now seeing these str...</td>\n",
       "      <td>0</td>\n",
       "    </tr>\n",
       "    <tr>\n",
       "      <th>1</th>\n",
       "      <td>Oh gosh she mentioned me and #ggautoblocker in...</td>\n",
       "      <td>0</td>\n",
       "    </tr>\n",
       "    <tr>\n",
       "      <th>2</th>\n",
       "      <td>In this ongoing tragedy, we found our voices &amp;...</td>\n",
       "      <td>0</td>\n",
       "    </tr>\n",
       "    <tr>\n",
       "      <th>3</th>\n",
       "      <td>I can't even find the words to describe how mu...</td>\n",
       "      <td>0</td>\n",
       "    </tr>\n",
       "    <tr>\n",
       "      <th>4</th>\n",
       "      <td>We talk about GamerGate a lot. But the truth i...</td>\n",
       "      <td>0</td>\n",
       "    </tr>\n",
       "    <tr>\n",
       "      <th>...</th>\n",
       "      <td>...</td>\n",
       "      <td>...</td>\n",
       "    </tr>\n",
       "    <tr>\n",
       "      <th>13626</th>\n",
       "      <td>this reminds me of the MENTION3079 situation; ...</td>\n",
       "      <td>0</td>\n",
       "    </tr>\n",
       "    <tr>\n",
       "      <th>13627</th>\n",
       "      <td>#mkr I love Annie and loyld there like a real ...</td>\n",
       "      <td>0</td>\n",
       "    </tr>\n",
       "    <tr>\n",
       "      <th>13628</th>\n",
       "      <td>No u. http://t.co/zOr0eWahSS</td>\n",
       "      <td>0</td>\n",
       "    </tr>\n",
       "    <tr>\n",
       "      <th>13629</th>\n",
       "      <td>#mkr the way kat looks at Annie is like she's ...</td>\n",
       "      <td>0</td>\n",
       "    </tr>\n",
       "    <tr>\n",
       "      <th>13630</th>\n",
       "      <td>#mkr omg the kiss stains on the \"dirty\" mirror...</td>\n",
       "      <td>0</td>\n",
       "    </tr>\n",
       "  </tbody>\n",
       "</table>\n",
       "<p>22904 rows × 2 columns</p>\n",
       "</div>"
      ],
      "text/plain": [
       "                                                    text  label\n",
       "0      It is fitting that we are now seeing these str...      0\n",
       "1      Oh gosh she mentioned me and #ggautoblocker in...      0\n",
       "2      In this ongoing tragedy, we found our voices &...      0\n",
       "3      I can't even find the words to describe how mu...      0\n",
       "4      We talk about GamerGate a lot. But the truth i...      0\n",
       "...                                                  ...    ...\n",
       "13626  this reminds me of the MENTION3079 situation; ...      0\n",
       "13627  #mkr I love Annie and loyld there like a real ...      0\n",
       "13628                       No u. http://t.co/zOr0eWahSS      0\n",
       "13629  #mkr the way kat looks at Annie is like she's ...      0\n",
       "13630  #mkr omg the kiss stains on the \"dirty\" mirror...      0\n",
       "\n",
       "[22904 rows x 2 columns]"
      ]
     },
     "execution_count": 52,
     "metadata": {},
     "output_type": "execute_result"
    }
   ],
   "source": [
    "sm_df_clean = sm_df.drop(columns = 'longueur_texte')\n",
    "sm_df_clean"
   ]
  },
  {
   "cell_type": "code",
   "execution_count": 114,
   "id": "b57a159c",
   "metadata": {
    "ExecuteTime": {
     "end_time": "2022-08-31T10:20:00.117652Z",
     "start_time": "2022-08-31T10:20:00.090623Z"
    }
   },
   "outputs": [
    {
     "data": {
      "text/html": [
       "<div>\n",
       "<style scoped>\n",
       "    .dataframe tbody tr th:only-of-type {\n",
       "        vertical-align: middle;\n",
       "    }\n",
       "\n",
       "    .dataframe tbody tr th {\n",
       "        vertical-align: top;\n",
       "    }\n",
       "\n",
       "    .dataframe thead th {\n",
       "        text-align: right;\n",
       "    }\n",
       "</style>\n",
       "<table border=\"1\" class=\"dataframe\">\n",
       "  <thead>\n",
       "    <tr style=\"text-align: right;\">\n",
       "      <th></th>\n",
       "      <th>level_0</th>\n",
       "      <th>index</th>\n",
       "      <th>text</th>\n",
       "      <th>label</th>\n",
       "    </tr>\n",
       "  </thead>\n",
       "  <tbody>\n",
       "    <tr>\n",
       "      <th>0</th>\n",
       "      <td>18847</td>\n",
       "      <td>5865</td>\n",
       "      <td>The message is clear: This target *WILL* be le...</td>\n",
       "      <td>0</td>\n",
       "    </tr>\n",
       "    <tr>\n",
       "      <th>1</th>\n",
       "      <td>1427</td>\n",
       "      <td>12587</td>\n",
       "      <td>Dev week matches my outfit! http://t.co/s8i4HD...</td>\n",
       "      <td>0</td>\n",
       "    </tr>\n",
       "    <tr>\n",
       "      <th>2</th>\n",
       "      <td>22606</td>\n",
       "      <td>1580</td>\n",
       "      <td>#mkr Katie &amp;amp; Nikki are atrocities, but Kat...</td>\n",
       "      <td>1</td>\n",
       "    </tr>\n",
       "    <tr>\n",
       "      <th>3</th>\n",
       "      <td>22039</td>\n",
       "      <td>5232</td>\n",
       "      <td>kids just cannot talk football. My 4 year old ...</td>\n",
       "      <td>0</td>\n",
       "    </tr>\n",
       "    <tr>\n",
       "      <th>4</th>\n",
       "      <td>6398</td>\n",
       "      <td>459</td>\n",
       "      <td>Soz my kitchen rules I've lost interest, the i...</td>\n",
       "      <td>0</td>\n",
       "    </tr>\n",
       "    <tr>\n",
       "      <th>...</th>\n",
       "      <td>...</td>\n",
       "      <td>...</td>\n",
       "      <td>...</td>\n",
       "      <td>...</td>\n",
       "    </tr>\n",
       "    <tr>\n",
       "      <th>22899</th>\n",
       "      <td>10955</td>\n",
       "      <td>278</td>\n",
       "      <td>1⃣7⃣ from contestants jeezzz it wasn't that ba...</td>\n",
       "      <td>0</td>\n",
       "    </tr>\n",
       "    <tr>\n",
       "      <th>22900</th>\n",
       "      <td>17289</td>\n",
       "      <td>13186</td>\n",
       "      <td>MENTION491 MENTION2930 Uh, no.</td>\n",
       "      <td>0</td>\n",
       "    </tr>\n",
       "    <tr>\n",
       "      <th>22901</th>\n",
       "      <td>5192</td>\n",
       "      <td>4429</td>\n",
       "      <td>RT @paddymcbride90: I'm not sexist, but if I w...</td>\n",
       "      <td>1</td>\n",
       "    </tr>\n",
       "    <tr>\n",
       "      <th>22902</th>\n",
       "      <td>12172</td>\n",
       "      <td>12554</td>\n",
       "      <td>MENTION1594 MENTION3711 i dunno. I think PC is...</td>\n",
       "      <td>0</td>\n",
       "    </tr>\n",
       "    <tr>\n",
       "      <th>22903</th>\n",
       "      <td>235</td>\n",
       "      <td>11947</td>\n",
       "      <td>Unless it’s my birthday that’s not happening  ...</td>\n",
       "      <td>0</td>\n",
       "    </tr>\n",
       "  </tbody>\n",
       "</table>\n",
       "<p>22904 rows × 4 columns</p>\n",
       "</div>"
      ],
      "text/plain": [
       "       level_0  index                                               text  \\\n",
       "0        18847   5865  The message is clear: This target *WILL* be le...   \n",
       "1         1427  12587  Dev week matches my outfit! http://t.co/s8i4HD...   \n",
       "2        22606   1580  #mkr Katie &amp; Nikki are atrocities, but Kat...   \n",
       "3        22039   5232  kids just cannot talk football. My 4 year old ...   \n",
       "4         6398    459  Soz my kitchen rules I've lost interest, the i...   \n",
       "...        ...    ...                                                ...   \n",
       "22899    10955    278  1⃣7⃣ from contestants jeezzz it wasn't that ba...   \n",
       "22900    17289  13186                     MENTION491 MENTION2930 Uh, no.   \n",
       "22901     5192   4429  RT @paddymcbride90: I'm not sexist, but if I w...   \n",
       "22902    12172  12554  MENTION1594 MENTION3711 i dunno. I think PC is...   \n",
       "22903      235  11947  Unless it’s my birthday that’s not happening  ...   \n",
       "\n",
       "       label  \n",
       "0          0  \n",
       "1          0  \n",
       "2          1  \n",
       "3          0  \n",
       "4          0  \n",
       "...      ...  \n",
       "22899      0  \n",
       "22900      0  \n",
       "22901      1  \n",
       "22902      0  \n",
       "22903      0  \n",
       "\n",
       "[22904 rows x 4 columns]"
      ]
     },
     "execution_count": 114,
     "metadata": {},
     "output_type": "execute_result"
    }
   ],
   "source": [
    "sm_df_clean = sm_df_clean.sample(frac=1, random_state = 1).reset_index()\n",
    "sm_df_clean"
   ]
  },
  {
   "cell_type": "code",
   "execution_count": 40,
   "id": "3602cde4",
   "metadata": {
    "ExecuteTime": {
     "end_time": "2022-08-31T07:40:41.052027Z",
     "start_time": "2022-08-31T07:40:41.048605Z"
    }
   },
   "outputs": [
    {
     "data": {
      "text/plain": [
       "0    18964\n",
       "1     3940\n",
       "Name: label, dtype: int64"
      ]
     },
     "execution_count": 40,
     "metadata": {},
     "output_type": "execute_result"
    }
   ],
   "source": [
    "sm_df_clean['label'].value_counts()"
   ]
  },
  {
   "cell_type": "code",
   "execution_count": 41,
   "id": "728903f8",
   "metadata": {
    "ExecuteTime": {
     "end_time": "2022-08-31T07:40:41.059772Z",
     "start_time": "2022-08-31T07:40:41.053148Z"
    }
   },
   "outputs": [
    {
     "data": {
      "text/html": [
       "<div>\n",
       "<style scoped>\n",
       "    .dataframe tbody tr th:only-of-type {\n",
       "        vertical-align: middle;\n",
       "    }\n",
       "\n",
       "    .dataframe tbody tr th {\n",
       "        vertical-align: top;\n",
       "    }\n",
       "\n",
       "    .dataframe thead th {\n",
       "        text-align: right;\n",
       "    }\n",
       "</style>\n",
       "<table border=\"1\" class=\"dataframe\">\n",
       "  <thead>\n",
       "    <tr style=\"text-align: right;\">\n",
       "      <th></th>\n",
       "      <th>text</th>\n",
       "      <th>label</th>\n",
       "    </tr>\n",
       "  </thead>\n",
       "  <tbody>\n",
       "    <tr>\n",
       "      <th>197</th>\n",
       "      <td>@comattwow @ChubsSays It allows me to simultan...</td>\n",
       "      <td>1</td>\n",
       "    </tr>\n",
       "    <tr>\n",
       "      <th>198</th>\n",
       "      <td>@comattwow @ChubsSays ...it's not a negative o...</td>\n",
       "      <td>1</td>\n",
       "    </tr>\n",
       "    <tr>\n",
       "      <th>199</th>\n",
       "      <td>@comattwow @ChubsSays No, I said that about fe...</td>\n",
       "      <td>1</td>\n",
       "    </tr>\n",
       "    <tr>\n",
       "      <th>200</th>\n",
       "      <td>@comattwow @ChubsSays Again, talking about fem...</td>\n",
       "      <td>1</td>\n",
       "    </tr>\n",
       "    <tr>\n",
       "      <th>201</th>\n",
       "      <td>@thespypoet Prison is the same...except with m...</td>\n",
       "      <td>1</td>\n",
       "    </tr>\n",
       "    <tr>\n",
       "      <th>...</th>\n",
       "      <td>...</td>\n",
       "      <td>...</td>\n",
       "    </tr>\n",
       "    <tr>\n",
       "      <th>5167</th>\n",
       "      <td>#QuestionsForMen Did you know feminists think ...</td>\n",
       "      <td>1</td>\n",
       "    </tr>\n",
       "    <tr>\n",
       "      <th>5171</th>\n",
       "      <td>A woman should know how to look like a girl, h...</td>\n",
       "      <td>1</td>\n",
       "    </tr>\n",
       "    <tr>\n",
       "      <th>5188</th>\n",
       "      <td>I'm not vegetarian to an extent but eat anythi...</td>\n",
       "      <td>1</td>\n",
       "    </tr>\n",
       "    <tr>\n",
       "      <th>5202</th>\n",
       "      <td>RT MENTION3142 I have yet to have a women roll...</td>\n",
       "      <td>1</td>\n",
       "    </tr>\n",
       "    <tr>\n",
       "      <th>5206</th>\n",
       "      <td>female commentators ruin every game</td>\n",
       "      <td>1</td>\n",
       "    </tr>\n",
       "  </tbody>\n",
       "</table>\n",
       "<p>3152 rows × 2 columns</p>\n",
       "</div>"
      ],
      "text/plain": [
       "                                                   text  label\n",
       "197   @comattwow @ChubsSays It allows me to simultan...      1\n",
       "198   @comattwow @ChubsSays ...it's not a negative o...      1\n",
       "199   @comattwow @ChubsSays No, I said that about fe...      1\n",
       "200   @comattwow @ChubsSays Again, talking about fem...      1\n",
       "201   @thespypoet Prison is the same...except with m...      1\n",
       "...                                                 ...    ...\n",
       "5167  #QuestionsForMen Did you know feminists think ...      1\n",
       "5171  A woman should know how to look like a girl, h...      1\n",
       "5188  I'm not vegetarian to an extent but eat anythi...      1\n",
       "5202  RT MENTION3142 I have yet to have a women roll...      1\n",
       "5206                female commentators ruin every game      1\n",
       "\n",
       "[3152 rows x 2 columns]"
      ]
     },
     "execution_count": 41,
     "metadata": {},
     "output_type": "execute_result"
    }
   ],
   "source": [
    "#on veut 3141 sexiste\n",
    "\n",
    "train_sexist = sm_df_clean[sm_df_clean['label'] == 1].head(3152)\n",
    "train_sexist"
   ]
  },
  {
   "cell_type": "code",
   "execution_count": 42,
   "id": "5e64db23",
   "metadata": {
    "ExecuteTime": {
     "end_time": "2022-08-31T07:40:41.065033Z",
     "start_time": "2022-08-31T07:40:41.061134Z"
    }
   },
   "outputs": [
    {
     "name": "stderr",
     "output_type": "stream",
     "text": [
      "/var/folders/bx/7srdzvwx4v1_rpc2gyh8tn3h0000gn/T/ipykernel_2973/1146595674.py:2: FutureWarning: The frame.append method is deprecated and will be removed from pandas in a future version. Use pandas.concat instead.\n",
      "  train_OK = train_pas_sexist.append(train_sexist)\n"
     ]
    }
   ],
   "source": [
    "train_pas_sexist = sm_df_clean[sm_df_clean['label'] == 0].head(4728)\n",
    "train_OK = train_pas_sexist.append(train_sexist)"
   ]
  },
  {
   "cell_type": "code",
   "execution_count": 43,
   "id": "a7a23a5c",
   "metadata": {
    "ExecuteTime": {
     "end_time": "2022-08-31T07:40:41.071724Z",
     "start_time": "2022-08-31T07:40:41.066260Z"
    }
   },
   "outputs": [
    {
     "data": {
      "text/html": [
       "<div>\n",
       "<style scoped>\n",
       "    .dataframe tbody tr th:only-of-type {\n",
       "        vertical-align: middle;\n",
       "    }\n",
       "\n",
       "    .dataframe tbody tr th {\n",
       "        vertical-align: top;\n",
       "    }\n",
       "\n",
       "    .dataframe thead th {\n",
       "        text-align: right;\n",
       "    }\n",
       "</style>\n",
       "<table border=\"1\" class=\"dataframe\">\n",
       "  <thead>\n",
       "    <tr style=\"text-align: right;\">\n",
       "      <th></th>\n",
       "      <th>text</th>\n",
       "      <th>label</th>\n",
       "    </tr>\n",
       "  </thead>\n",
       "  <tbody>\n",
       "    <tr>\n",
       "      <th>0</th>\n",
       "      <td>It is fitting that we are now seeing these str...</td>\n",
       "      <td>0</td>\n",
       "    </tr>\n",
       "    <tr>\n",
       "      <th>1</th>\n",
       "      <td>Oh gosh she mentioned me and #ggautoblocker in...</td>\n",
       "      <td>0</td>\n",
       "    </tr>\n",
       "    <tr>\n",
       "      <th>2</th>\n",
       "      <td>In this ongoing tragedy, we found our voices &amp;...</td>\n",
       "      <td>0</td>\n",
       "    </tr>\n",
       "    <tr>\n",
       "      <th>3</th>\n",
       "      <td>I can't even find the words to describe how mu...</td>\n",
       "      <td>0</td>\n",
       "    </tr>\n",
       "    <tr>\n",
       "      <th>4</th>\n",
       "      <td>We talk about GamerGate a lot. But the truth i...</td>\n",
       "      <td>0</td>\n",
       "    </tr>\n",
       "    <tr>\n",
       "      <th>...</th>\n",
       "      <td>...</td>\n",
       "      <td>...</td>\n",
       "    </tr>\n",
       "    <tr>\n",
       "      <th>5167</th>\n",
       "      <td>#QuestionsForMen Did you know feminists think ...</td>\n",
       "      <td>1</td>\n",
       "    </tr>\n",
       "    <tr>\n",
       "      <th>5171</th>\n",
       "      <td>A woman should know how to look like a girl, h...</td>\n",
       "      <td>1</td>\n",
       "    </tr>\n",
       "    <tr>\n",
       "      <th>5188</th>\n",
       "      <td>I'm not vegetarian to an extent but eat anythi...</td>\n",
       "      <td>1</td>\n",
       "    </tr>\n",
       "    <tr>\n",
       "      <th>5202</th>\n",
       "      <td>RT MENTION3142 I have yet to have a women roll...</td>\n",
       "      <td>1</td>\n",
       "    </tr>\n",
       "    <tr>\n",
       "      <th>5206</th>\n",
       "      <td>female commentators ruin every game</td>\n",
       "      <td>1</td>\n",
       "    </tr>\n",
       "  </tbody>\n",
       "</table>\n",
       "<p>7880 rows × 2 columns</p>\n",
       "</div>"
      ],
      "text/plain": [
       "                                                   text  label\n",
       "0     It is fitting that we are now seeing these str...      0\n",
       "1     Oh gosh she mentioned me and #ggautoblocker in...      0\n",
       "2     In this ongoing tragedy, we found our voices &...      0\n",
       "3     I can't even find the words to describe how mu...      0\n",
       "4     We talk about GamerGate a lot. But the truth i...      0\n",
       "...                                                 ...    ...\n",
       "5167  #QuestionsForMen Did you know feminists think ...      1\n",
       "5171  A woman should know how to look like a girl, h...      1\n",
       "5188  I'm not vegetarian to an extent but eat anythi...      1\n",
       "5202  RT MENTION3142 I have yet to have a women roll...      1\n",
       "5206                female commentators ruin every game      1\n",
       "\n",
       "[7880 rows x 2 columns]"
      ]
     },
     "execution_count": 43,
     "metadata": {},
     "output_type": "execute_result"
    }
   ],
   "source": [
    "#C'est le df train 60% / 40%\n",
    "train_OK"
   ]
  },
  {
   "cell_type": "code",
   "execution_count": 44,
   "id": "e3ad5342",
   "metadata": {
    "ExecuteTime": {
     "end_time": "2022-08-31T07:40:41.075475Z",
     "start_time": "2022-08-31T07:40:41.073330Z"
    }
   },
   "outputs": [],
   "source": [
    "X_train_ok = train_OK['text']\n",
    "y_train_ok = train_OK['label']"
   ]
  },
  {
   "cell_type": "code",
   "execution_count": 45,
   "id": "12a960ba",
   "metadata": {
    "ExecuteTime": {
     "end_time": "2022-08-31T07:40:41.083019Z",
     "start_time": "2022-08-31T07:40:41.076798Z"
    }
   },
   "outputs": [
    {
     "data": {
      "text/html": [
       "<div>\n",
       "<style scoped>\n",
       "    .dataframe tbody tr th:only-of-type {\n",
       "        vertical-align: middle;\n",
       "    }\n",
       "\n",
       "    .dataframe tbody tr th {\n",
       "        vertical-align: top;\n",
       "    }\n",
       "\n",
       "    .dataframe thead th {\n",
       "        text-align: right;\n",
       "    }\n",
       "</style>\n",
       "<table border=\"1\" class=\"dataframe\">\n",
       "  <thead>\n",
       "    <tr style=\"text-align: right;\">\n",
       "      <th></th>\n",
       "      <th>text</th>\n",
       "      <th>label</th>\n",
       "    </tr>\n",
       "  </thead>\n",
       "  <tbody>\n",
       "    <tr>\n",
       "      <th>5220</th>\n",
       "      <td>Can't believe \"educated\" #Liberal women buy in...</td>\n",
       "      <td>1</td>\n",
       "    </tr>\n",
       "    <tr>\n",
       "      <th>5228</th>\n",
       "      <td>You may the only Vines look at, are the ones f...</td>\n",
       "      <td>1</td>\n",
       "    </tr>\n",
       "    <tr>\n",
       "      <th>5229</th>\n",
       "      <td>It makes me cringe so bad when girls genuinely...</td>\n",
       "      <td>1</td>\n",
       "    </tr>\n",
       "    <tr>\n",
       "      <th>5240</th>\n",
       "      <td>Just watched 10 mins of the women's rugby Worl...</td>\n",
       "      <td>1</td>\n",
       "    </tr>\n",
       "    <tr>\n",
       "      <th>5260</th>\n",
       "      <td>Slimer will have boobs &amp; an eating disorder. M...</td>\n",
       "      <td>1</td>\n",
       "    </tr>\n",
       "    <tr>\n",
       "      <th>...</th>\n",
       "      <td>...</td>\n",
       "      <td>...</td>\n",
       "    </tr>\n",
       "    <tr>\n",
       "      <th>13584</th>\n",
       "      <td>woman comedians are NOT funny in the slightest.</td>\n",
       "      <td>1</td>\n",
       "    </tr>\n",
       "    <tr>\n",
       "      <th>13589</th>\n",
       "      <td>MENTION3859 MENTION61 MENTION2729 I'm sorry, I...</td>\n",
       "      <td>1</td>\n",
       "    </tr>\n",
       "    <tr>\n",
       "      <th>13593</th>\n",
       "      <td>I absolutely hate a female who talks sports or...</td>\n",
       "      <td>1</td>\n",
       "    </tr>\n",
       "    <tr>\n",
       "      <th>13607</th>\n",
       "      <td>RT MENTION4556 call me sexist, but i hate to h...</td>\n",
       "      <td>1</td>\n",
       "    </tr>\n",
       "    <tr>\n",
       "      <th>13623</th>\n",
       "      <td>i eat like a man its old news😂 https://t.co/Vb...</td>\n",
       "      <td>1</td>\n",
       "    </tr>\n",
       "  </tbody>\n",
       "</table>\n",
       "<p>788 rows × 2 columns</p>\n",
       "</div>"
      ],
      "text/plain": [
       "                                                    text  label\n",
       "5220   Can't believe \"educated\" #Liberal women buy in...      1\n",
       "5228   You may the only Vines look at, are the ones f...      1\n",
       "5229   It makes me cringe so bad when girls genuinely...      1\n",
       "5240   Just watched 10 mins of the women's rugby Worl...      1\n",
       "5260   Slimer will have boobs & an eating disorder. M...      1\n",
       "...                                                  ...    ...\n",
       "13584    woman comedians are NOT funny in the slightest.      1\n",
       "13589  MENTION3859 MENTION61 MENTION2729 I'm sorry, I...      1\n",
       "13593  I absolutely hate a female who talks sports or...      1\n",
       "13607  RT MENTION4556 call me sexist, but i hate to h...      1\n",
       "13623  i eat like a man its old news😂 https://t.co/Vb...      1\n",
       "\n",
       "[788 rows x 2 columns]"
      ]
     },
     "execution_count": 45,
     "metadata": {},
     "output_type": "execute_result"
    }
   ],
   "source": [
    "test_sexist = sm_df_clean[sm_df_clean['label'] == 1].tail(788)\n"
   ]
  },
  {
   "cell_type": "code",
   "execution_count": 46,
   "id": "2ca8572d",
   "metadata": {
    "ExecuteTime": {
     "end_time": "2022-08-31T07:40:41.090192Z",
     "start_time": "2022-08-31T07:40:41.084066Z"
    },
    "scrolled": true
   },
   "outputs": [
    {
     "data": {
      "text/html": [
       "<div>\n",
       "<style scoped>\n",
       "    .dataframe tbody tr th:only-of-type {\n",
       "        vertical-align: middle;\n",
       "    }\n",
       "\n",
       "    .dataframe tbody tr th {\n",
       "        vertical-align: top;\n",
       "    }\n",
       "\n",
       "    .dataframe thead th {\n",
       "        text-align: right;\n",
       "    }\n",
       "</style>\n",
       "<table border=\"1\" class=\"dataframe\">\n",
       "  <thead>\n",
       "    <tr style=\"text-align: right;\">\n",
       "      <th></th>\n",
       "      <th>text</th>\n",
       "      <th>label</th>\n",
       "    </tr>\n",
       "  </thead>\n",
       "  <tbody>\n",
       "    <tr>\n",
       "      <th>7710</th>\n",
       "      <td>HAHAHAHAHA suckers!!!!! #mkr</td>\n",
       "      <td>0</td>\n",
       "    </tr>\n",
       "    <tr>\n",
       "      <th>7711</th>\n",
       "      <td>I am a woman in tech, and I do not want MENTIO...</td>\n",
       "      <td>0</td>\n",
       "    </tr>\n",
       "    <tr>\n",
       "      <th>7713</th>\n",
       "      <td>I have no words. Bs meter overload. #mkr</td>\n",
       "      <td>0</td>\n",
       "    </tr>\n",
       "    <tr>\n",
       "      <th>7714</th>\n",
       "      <td>I just saw a rookie masterfully parallel park ...</td>\n",
       "      <td>0</td>\n",
       "    </tr>\n",
       "    <tr>\n",
       "      <th>7715</th>\n",
       "      <td>I love some woman on woman trophy lovin #usa h...</td>\n",
       "      <td>0</td>\n",
       "    </tr>\n",
       "    <tr>\n",
       "      <th>...</th>\n",
       "      <td>...</td>\n",
       "      <td>...</td>\n",
       "    </tr>\n",
       "    <tr>\n",
       "      <th>13626</th>\n",
       "      <td>this reminds me of the MENTION3079 situation; ...</td>\n",
       "      <td>0</td>\n",
       "    </tr>\n",
       "    <tr>\n",
       "      <th>13627</th>\n",
       "      <td>#mkr I love Annie and loyld there like a real ...</td>\n",
       "      <td>0</td>\n",
       "    </tr>\n",
       "    <tr>\n",
       "      <th>13628</th>\n",
       "      <td>No u. http://t.co/zOr0eWahSS</td>\n",
       "      <td>0</td>\n",
       "    </tr>\n",
       "    <tr>\n",
       "      <th>13629</th>\n",
       "      <td>#mkr the way kat looks at Annie is like she's ...</td>\n",
       "      <td>0</td>\n",
       "    </tr>\n",
       "    <tr>\n",
       "      <th>13630</th>\n",
       "      <td>#mkr omg the kiss stains on the \"dirty\" mirror...</td>\n",
       "      <td>0</td>\n",
       "    </tr>\n",
       "  </tbody>\n",
       "</table>\n",
       "<p>5000 rows × 2 columns</p>\n",
       "</div>"
      ],
      "text/plain": [
       "                                                    text  label\n",
       "7710                        HAHAHAHAHA suckers!!!!! #mkr      0\n",
       "7711   I am a woman in tech, and I do not want MENTIO...      0\n",
       "7713            I have no words. Bs meter overload. #mkr      0\n",
       "7714   I just saw a rookie masterfully parallel park ...      0\n",
       "7715   I love some woman on woman trophy lovin #usa h...      0\n",
       "...                                                  ...    ...\n",
       "13626  this reminds me of the MENTION3079 situation; ...      0\n",
       "13627  #mkr I love Annie and loyld there like a real ...      0\n",
       "13628                       No u. http://t.co/zOr0eWahSS      0\n",
       "13629  #mkr the way kat looks at Annie is like she's ...      0\n",
       "13630  #mkr omg the kiss stains on the \"dirty\" mirror...      0\n",
       "\n",
       "[5000 rows x 2 columns]"
      ]
     },
     "execution_count": 46,
     "metadata": {},
     "output_type": "execute_result"
    }
   ],
   "source": [
    "test_pas_sexist = sm_df_clean[sm_df_clean['label'] == 0].tail(5000)\n",
    "test_pas_sexist"
   ]
  },
  {
   "cell_type": "code",
   "execution_count": 53,
   "id": "f56e7e4f",
   "metadata": {
    "ExecuteTime": {
     "end_time": "2022-08-31T07:43:41.217873Z",
     "start_time": "2022-08-31T07:43:41.201789Z"
    }
   },
   "outputs": [
    {
     "name": "stderr",
     "output_type": "stream",
     "text": [
      "/var/folders/bx/7srdzvwx4v1_rpc2gyh8tn3h0000gn/T/ipykernel_2973/2709531240.py:1: FutureWarning: The frame.append method is deprecated and will be removed from pandas in a future version. Use pandas.concat instead.\n",
      "  test_OK = test_pas_sexist.append(test_sexist)\n"
     ]
    }
   ],
   "source": [
    "test_OK = test_pas_sexist.append(test_sexist)"
   ]
  },
  {
   "cell_type": "code",
   "execution_count": 54,
   "id": "7c4671d8",
   "metadata": {
    "ExecuteTime": {
     "end_time": "2022-08-31T07:44:12.267663Z",
     "start_time": "2022-08-31T07:44:12.257542Z"
    }
   },
   "outputs": [],
   "source": [
    "X_test_ok = test_OK['text']\n",
    "y_test_ok = test_OK['label']"
   ]
  },
  {
   "cell_type": "code",
   "execution_count": 55,
   "id": "70c6c77a",
   "metadata": {
    "ExecuteTime": {
     "end_time": "2022-08-31T07:44:22.581143Z",
     "start_time": "2022-08-31T07:44:22.569736Z"
    }
   },
   "outputs": [],
   "source": [
    "# sm_df_clean[sm_df_clean['label'] == 1]"
   ]
  },
  {
   "cell_type": "code",
   "execution_count": 60,
   "id": "4a9e98af",
   "metadata": {
    "ExecuteTime": {
     "end_time": "2022-08-31T07:45:18.923562Z",
     "start_time": "2022-08-31T07:45:18.908879Z"
    }
   },
   "outputs": [
    {
     "data": {
      "text/plain": [
       "0       It is fitting that we are now seeing these str...\n",
       "1       Oh gosh she mentioned me and #ggautoblocker in...\n",
       "2       In this ongoing tragedy, we found our voices &...\n",
       "3       I can't even find the words to describe how mu...\n",
       "4       We talk about GamerGate a lot. But the truth i...\n",
       "                              ...                        \n",
       "5167    #QuestionsForMen Did you know feminists think ...\n",
       "5171    A woman should know how to look like a girl, h...\n",
       "5188    I'm not vegetarian to an extent but eat anythi...\n",
       "5202    RT MENTION3142 I have yet to have a women roll...\n",
       "5206                  female commentators ruin every game\n",
       "Name: text, Length: 7880, dtype: object"
      ]
     },
     "execution_count": 60,
     "metadata": {},
     "output_type": "execute_result"
    }
   ],
   "source": [
    "X_train_ok "
   ]
  },
  {
   "cell_type": "markdown",
   "id": "5f930430",
   "metadata": {
    "ExecuteTime": {
     "end_time": "2022-08-29T16:01:44.363957Z",
     "start_time": "2022-08-29T16:01:44.354391Z"
    }
   },
   "source": [
    "## Preprocessing"
   ]
  },
  {
   "cell_type": "markdown",
   "id": "52995af9",
   "metadata": {},
   "source": [
    "To-Do-liste :\n",
    "    \n",
    "    -> lowercase\n",
    "    -> dealing with numbers, punctuation and symbols\n",
    "    -> splitting\n",
    "    -> tokenizing\n",
    "    -> removing \"stopwords\"\n",
    "    -> lemmatizing\n",
    "\n",
    "aller voir : https://kitt.lewagon.com/camps/941/lectures/content/05-ML_10-Natural-Language-Processing.html"
   ]
  },
  {
   "cell_type": "markdown",
   "id": "0aeb9bbc",
   "metadata": {},
   "source": [
    "On crée une fonction cleanning qui strip, lower, enlève les digits, enlève la ponctuation, définit puis retire les stopword (mots qui se répètent), et lematize (groupe les mots par famille)."
   ]
  },
  {
   "cell_type": "code",
   "execution_count": 61,
   "id": "6428dabf",
   "metadata": {
    "ExecuteTime": {
     "end_time": "2022-08-31T07:46:14.946320Z",
     "start_time": "2022-08-31T07:46:14.724200Z"
    }
   },
   "outputs": [],
   "source": [
    "import string\n",
    "from nltk.tokenize import word_tokenize\n",
    "from nltk.corpus import stopwords \n",
    "from nltk.stem.wordnet import WordNetLemmatizer\n",
    "import re\n",
    "\n",
    "def cleaning(sentence):\n",
    "    \n",
    "    # Basic cleaning\n",
    "    sentence = re.sub(r'http[^ ]+', '', sentence, flags=re.MULTILINE)\n",
    "    sentence = sentence.strip() ## remove whitespaces\n",
    "    sentence = sentence.lower() ## lowercase \n",
    "    sentence = ''.join(char for char in sentence if not char.isdigit()) ## remove numbers\n",
    "    \n",
    "    # Advanced cleaning\n",
    "    for punctuation in string.punctuation:\n",
    "        sentence = sentence.replace(punctuation, '') ## remove punctuation\n",
    "    \n",
    "    tokenized_sentence = word_tokenize(sentence) ## tokenize \n",
    "    stop_words = set(stopwords.words('english')) ## define stopwords\n",
    "    \n",
    "    tokenized_sentence_cleaned = [ ## remove stopwords\n",
    "        w for w in tokenized_sentence if not w in stop_words\n",
    "    ]\n",
    "\n",
    "    lemmatized = [\n",
    "        WordNetLemmatizer().lemmatize(word, pos = \"v\") \n",
    "        for word in tokenized_sentence_cleaned\n",
    "    ]\n",
    "    \n",
    "    cleaned_sentence = ' '.join(word for word in lemmatized)\n",
    "    \n",
    "    return cleaned_sentence"
   ]
  },
  {
   "cell_type": "code",
   "execution_count": 63,
   "id": "13a19acc",
   "metadata": {
    "ExecuteTime": {
     "end_time": "2022-08-31T07:46:31.658680Z",
     "start_time": "2022-08-31T07:46:28.990126Z"
    }
   },
   "outputs": [],
   "source": [
    "X_train_ok = X_train_ok.apply(cleaning)"
   ]
  },
  {
   "cell_type": "code",
   "execution_count": 64,
   "id": "2ae62a44",
   "metadata": {
    "ExecuteTime": {
     "end_time": "2022-08-31T07:46:33.212474Z",
     "start_time": "2022-08-31T07:46:33.197940Z"
    },
    "scrolled": true
   },
   "outputs": [
    {
     "data": {
      "text/plain": [
       "0       fit see strong women speak try fix problems ot...\n",
       "1       oh gosh mention ggautoblocker talk blush try s...\n",
       "2       ongoing tragedy find voice amp learn work toge...\n",
       "3       cant even find word describe much value work p...\n",
       "4       talk gamergate lot truth gamergate isnt real b...\n",
       "                              ...                        \n",
       "5167    questionsformen know feminists think violence ...\n",
       "5171    woman know look like girl act like lady think ...\n",
       "5188    im vegetarian extent eat anything beef mention...\n",
       "5202    rt mention yet women roll good burrito chipotl...\n",
       "5206                  female commentators ruin every game\n",
       "Name: text, Length: 7880, dtype: object"
      ]
     },
     "execution_count": 64,
     "metadata": {},
     "output_type": "execute_result"
    }
   ],
   "source": [
    "X_train_ok "
   ]
  },
  {
   "cell_type": "code",
   "execution_count": 65,
   "id": "51db2dc0",
   "metadata": {
    "ExecuteTime": {
     "end_time": "2022-08-31T07:47:00.310645Z",
     "start_time": "2022-08-31T07:46:59.052601Z"
    }
   },
   "outputs": [],
   "source": [
    "X_test_ok = X_test_ok.apply(cleaning)"
   ]
  },
  {
   "cell_type": "code",
   "execution_count": 66,
   "id": "0f1d9562",
   "metadata": {
    "ExecuteTime": {
     "end_time": "2022-08-31T07:47:03.618601Z",
     "start_time": "2022-08-31T07:47:03.604390Z"
    }
   },
   "outputs": [
    {
     "data": {
      "text/plain": [
       "7710                                hahahahaha suckers mkr\n",
       "7711     woman tech want mention speak block wont creep...\n",
       "7713                            word bs meter overload mkr\n",
       "7714          saw rookie masterfully parallel park ’ first\n",
       "7715                     love woman woman trophy lovin usa\n",
       "                               ...                        \n",
       "13584                      woman comedians funny slightest\n",
       "13589    mention mention mention im sorry dont like fem...\n",
       "13593         absolutely hate female talk sport commentate\n",
       "13607    rt mention call sexist hate hear girls argue b...\n",
       "13623                               eat like man old news😂\n",
       "Name: text, Length: 5788, dtype: object"
      ]
     },
     "execution_count": 66,
     "metadata": {},
     "output_type": "execute_result"
    }
   ],
   "source": [
    "X_test_ok"
   ]
  },
  {
   "cell_type": "code",
   "execution_count": null,
   "id": "10c8461b",
   "metadata": {},
   "outputs": [],
   "source": []
  },
  {
   "cell_type": "code",
   "execution_count": null,
   "id": "b828d12a",
   "metadata": {
    "ExecuteTime": {
     "end_time": "2022-08-31T07:40:41.637451Z",
     "start_time": "2022-08-31T07:40:41.637443Z"
    }
   },
   "outputs": [],
   "source": [
    "#path_2 = '/Users/camillepettineo/code/sunc33/sexist_speech_recognition/sexist_speech_recognition/data/test.csv'\n",
    "#df_to_csv(X,path_2)"
   ]
  },
  {
   "cell_type": "markdown",
   "id": "cd3f3404",
   "metadata": {},
   "source": [
    "## Baseline"
   ]
  },
  {
   "cell_type": "markdown",
   "id": "ce30368e",
   "metadata": {},
   "source": [
    "Création d'un modèle de base simple qui servira de référence dans un projet d'apprentissage automatique. Sa fonction principale est de contextualiser les résultats des modèles entraînés. Piste de modèles pour la baseline :  \n",
    "  \n",
    "• Naive Bayes  \n",
    "• SVM  "
   ]
  },
  {
   "cell_type": "markdown",
   "id": "3b1f1692",
   "metadata": {},
   "source": [
    "Rappel :\n",
    " \n",
    "- Importez le modèle : *from sklearn import model*\n",
    "- Instanciez le modèle : *model = model()*\n",
    "- Entraînez le modèle : *model.fit(X, y)*\n",
    "- Évaluez le modèle : *model.score(new_X, new_y)*\n",
    "- Faire des prédictions: *model.predict(new_X)*"
   ]
  },
  {
   "cell_type": "markdown",
   "id": "1a374da7",
   "metadata": {},
   "source": [
    "Nous appliquons un N-grams pour garder le contexte dans l'utilisation d'un bag-of-words. An efficient way to capture context is to consider:\n",
    "\n",
    "the count of single tokens (unigrams)\n",
    "the count of pairs (bigrams), triplets (trigrams), and more generally sequences of  \n",
    "n\n",
    "  words, also known as n-grams"
   ]
  },
  {
   "cell_type": "code",
   "execution_count": 67,
   "id": "299611a0",
   "metadata": {
    "ExecuteTime": {
     "end_time": "2022-08-31T07:47:15.267253Z",
     "start_time": "2022-08-31T07:47:15.250717Z"
    }
   },
   "outputs": [
    {
     "data": {
      "text/plain": [
       "0       fit see strong women speak try fix problems ot...\n",
       "1       oh gosh mention ggautoblocker talk blush try s...\n",
       "2       ongoing tragedy find voice amp learn work toge...\n",
       "3       cant even find word describe much value work p...\n",
       "4       talk gamergate lot truth gamergate isnt real b...\n",
       "                              ...                        \n",
       "5167    questionsformen know feminists think violence ...\n",
       "5171    woman know look like girl act like lady think ...\n",
       "5188    im vegetarian extent eat anything beef mention...\n",
       "5202    rt mention yet women roll good burrito chipotl...\n",
       "5206                  female commentators ruin every game\n",
       "Name: text, Length: 7880, dtype: object"
      ]
     },
     "execution_count": 67,
     "metadata": {},
     "output_type": "execute_result"
    }
   ],
   "source": [
    "X_train_ok"
   ]
  },
  {
   "cell_type": "markdown",
   "id": "bc9921ca",
   "metadata": {
    "ExecuteTime": {
     "end_time": "2022-08-30T13:32:16.362177Z",
     "start_time": "2022-08-30T13:32:16.350599Z"
    }
   },
   "source": [
    "### Baseline avec un Naive_Bayes"
   ]
  },
  {
   "cell_type": "code",
   "execution_count": 91,
   "id": "867dfc24",
   "metadata": {
    "ExecuteTime": {
     "end_time": "2022-08-31T07:57:47.720044Z",
     "start_time": "2022-08-31T07:57:47.707331Z"
    }
   },
   "outputs": [],
   "source": [
    "import numpy as np\n",
    "\n",
    "from sklearn.model_selection import cross_validate\n",
    "from sklearn.pipeline import make_pipeline\n",
    "from sklearn.feature_extraction.text import TfidfVectorizer\n",
    "from sklearn.naive_bayes import MultinomialNB\n",
    "from sklearn.metrics import recall_score\n",
    "\n",
    "\n",
    "# Pipeline vectorizer + Naive Bayes\n",
    "pipeline_naive_bayes = make_pipeline(TfidfVectorizer(), \n",
    "                                     MultinomialNB())\n"
   ]
  },
  {
   "cell_type": "code",
   "execution_count": 110,
   "id": "06664368",
   "metadata": {
    "ExecuteTime": {
     "end_time": "2022-08-31T08:01:11.740846Z",
     "start_time": "2022-08-31T08:01:11.371233Z"
    }
   },
   "outputs": [],
   "source": [
    "# Cross-validation\n",
    "# cv_results = cross_validate(pipeline_naive_bayes, X_train_ok, y_train_ok, cv = 5, scoring = [\"precision\"]) ##AVEC PRECISION\n",
    "cv_results_2 = cross_validate(pipeline_naive_bayes, X_train_ok, y_train_ok, cv = 5, scoring = [\"accuracy\"])"
   ]
  },
  {
   "cell_type": "code",
   "execution_count": 93,
   "id": "f7976ec1",
   "metadata": {
    "ExecuteTime": {
     "end_time": "2022-08-31T07:57:48.996625Z",
     "start_time": "2022-08-31T07:57:48.983586Z"
    }
   },
   "outputs": [
    {
     "data": {
      "text/plain": [
       "{'fit_time': array([0.08736587, 0.05455494, 0.05384922, 0.05434585, 0.05395603]),\n",
       " 'score_time': array([0.01145315, 0.01097798, 0.0110898 , 0.01055503, 0.01094389]),\n",
       " 'test_accuracy': array([0.82043147, 0.82043147, 0.82423858, 0.76459391, 0.82994924])}"
      ]
     },
     "execution_count": 93,
     "metadata": {},
     "output_type": "execute_result"
    }
   ],
   "source": [
    "cv_results_2"
   ]
  },
  {
   "cell_type": "code",
   "execution_count": 97,
   "id": "0e0c64bf",
   "metadata": {
    "ExecuteTime": {
     "end_time": "2022-08-31T07:58:39.416595Z",
     "start_time": "2022-08-31T07:58:39.403059Z"
    }
   },
   "outputs": [
    {
     "data": {
      "text/plain": [
       "0.81"
      ]
     },
     "execution_count": 97,
     "metadata": {},
     "output_type": "execute_result"
    }
   ],
   "source": [
    "average_accuracy_bayes = cv_results_2[\"test_accuracy\"].mean()\n",
    "np.round(average_precision_bayes,2)"
   ]
  },
  {
   "cell_type": "code",
   "execution_count": 95,
   "id": "1975276b",
   "metadata": {
    "ExecuteTime": {
     "end_time": "2022-08-31T07:57:51.268878Z",
     "start_time": "2022-08-31T07:57:51.253973Z"
    }
   },
   "outputs": [
    {
     "data": {
      "text/plain": [
       "{'memory': None,\n",
       " 'steps': [('tfidfvectorizer', TfidfVectorizer()),\n",
       "  ('multinomialnb', MultinomialNB())],\n",
       " 'verbose': False,\n",
       " 'tfidfvectorizer': TfidfVectorizer(),\n",
       " 'multinomialnb': MultinomialNB(),\n",
       " 'tfidfvectorizer__analyzer': 'word',\n",
       " 'tfidfvectorizer__binary': False,\n",
       " 'tfidfvectorizer__decode_error': 'strict',\n",
       " 'tfidfvectorizer__dtype': numpy.float64,\n",
       " 'tfidfvectorizer__encoding': 'utf-8',\n",
       " 'tfidfvectorizer__input': 'content',\n",
       " 'tfidfvectorizer__lowercase': True,\n",
       " 'tfidfvectorizer__max_df': 1.0,\n",
       " 'tfidfvectorizer__max_features': None,\n",
       " 'tfidfvectorizer__min_df': 1,\n",
       " 'tfidfvectorizer__ngram_range': (1, 1),\n",
       " 'tfidfvectorizer__norm': 'l2',\n",
       " 'tfidfvectorizer__preprocessor': None,\n",
       " 'tfidfvectorizer__smooth_idf': True,\n",
       " 'tfidfvectorizer__stop_words': None,\n",
       " 'tfidfvectorizer__strip_accents': None,\n",
       " 'tfidfvectorizer__sublinear_tf': False,\n",
       " 'tfidfvectorizer__token_pattern': '(?u)\\\\b\\\\w\\\\w+\\\\b',\n",
       " 'tfidfvectorizer__tokenizer': None,\n",
       " 'tfidfvectorizer__use_idf': True,\n",
       " 'tfidfvectorizer__vocabulary': None,\n",
       " 'multinomialnb__alpha': 1.0,\n",
       " 'multinomialnb__class_prior': None,\n",
       " 'multinomialnb__fit_prior': True}"
      ]
     },
     "execution_count": 95,
     "metadata": {},
     "output_type": "execute_result"
    }
   ],
   "source": [
    "pipeline_naive_bayes.get_params()"
   ]
  },
  {
   "cell_type": "markdown",
   "id": "98c06e57",
   "metadata": {},
   "source": [
    "## GRID SEARCH"
   ]
  },
  {
   "cell_type": "code",
   "execution_count": 108,
   "id": "61939746",
   "metadata": {
    "ExecuteTime": {
     "end_time": "2022-08-31T08:00:33.727867Z",
     "start_time": "2022-08-31T08:00:27.624630Z"
    }
   },
   "outputs": [
    {
     "name": "stdout",
     "output_type": "stream",
     "text": [
      "Fitting 5 folds for each of 30 candidates, totalling 150 fits\n",
      "Best Score = 0.8241116751269036\n",
      "Best params = {'multinomialnb__alpha': 0.1, 'tfidfvectorizer__max_df': 1.0, 'tfidfvectorizer__ngram_range': (1, 2)}\n"
     ]
    }
   ],
   "source": [
    "from sklearn.model_selection import GridSearchCV\n",
    "\n",
    "# Define the grid of parameters\n",
    "parameters = {\n",
    "    'tfidfvectorizer__ngram_range': ((1,3), (2,2), (3,3), (1,3), (1,2)),\n",
    "    'multinomialnb__alpha': (0.1,1),\n",
    "    'tfidfvectorizer__max_df': [1.0, 0.8, 0.6],\n",
    "}\n",
    "\n",
    "# Perform Grid Search\n",
    "grid_search = GridSearchCV(pipeline_naive_bayes, parameters, scoring = \"accuracy\", cv = 5, n_jobs=-1, verbose=1,  error_score='raise')\n",
    "\n",
    "grid_search.fit(X_train_ok, y_train_ok)\n",
    "\n",
    "# Best score\n",
    "print(f\"Best Score = {grid_search.best_score_}\")\n",
    "\n",
    "# Best params\n",
    "print(f\"Best params = {grid_search.best_params_}\")"
   ]
  },
  {
   "cell_type": "code",
   "execution_count": 109,
   "id": "045baa6d",
   "metadata": {
    "ExecuteTime": {
     "end_time": "2022-08-31T08:00:33.810125Z",
     "start_time": "2022-08-31T08:00:33.729886Z"
    }
   },
   "outputs": [
    {
     "data": {
      "text/plain": [
       "0.6802004146510021"
      ]
     },
     "execution_count": 109,
     "metadata": {},
     "output_type": "execute_result"
    }
   ],
   "source": [
    "grid_search.best_estimator_.score(X_test_ok, y_test_ok)"
   ]
  },
  {
   "cell_type": "markdown",
   "id": "fb118954",
   "metadata": {
    "ExecuteTime": {
     "end_time": "2022-08-30T13:38:01.548898Z",
     "start_time": "2022-08-30T13:38:01.541499Z"
    },
    "heading_collapsed": true
   },
   "source": [
    "### Baseline avec un SVM + Bag of words"
   ]
  },
  {
   "cell_type": "code",
   "execution_count": null,
   "id": "13150294",
   "metadata": {
    "ExecuteTime": {
     "end_time": "2022-08-31T07:40:41.652879Z",
     "start_time": "2022-08-31T07:40:41.652865Z"
    },
    "hidden": true
   },
   "outputs": [],
   "source": [
    "X_train['text'].shape"
   ]
  },
  {
   "cell_type": "code",
   "execution_count": null,
   "id": "36318ff7",
   "metadata": {
    "ExecuteTime": {
     "end_time": "2022-08-31T07:40:41.653561Z",
     "start_time": "2022-08-31T07:40:41.653553Z"
    },
    "hidden": true
   },
   "outputs": [],
   "source": [
    "import numpy as np\n",
    "\n",
    "from sklearn.model_selection import cross_validate\n",
    "from sklearn.pipeline import make_pipeline\n",
    "from sklearn.feature_extraction.text import CountVectorizer\n",
    "from sklearn.svm import SVC\n",
    "from sklearn.metrics import recall_score\n",
    "\n",
    "\n",
    "pipeline_SVC_BoW = make_pipeline(CountVectorizer(), \n",
    "                                     SVC())\n",
    "\n",
    "\n",
    "# Cross-validation\n",
    "cv_results = cross_validate(pipeline_SVC_BoW, X_train['text'], y_train, cv = 5, scoring = [\"precision\"])\n",
    "average_precision_SVM = cv_results[\"test_precision\"].mean()\n",
    "print(np.round(average_precision_SVM,2))"
   ]
  },
  {
   "cell_type": "markdown",
   "id": "ad64f6db",
   "metadata": {},
   "source": [
    "## TESTING"
   ]
  },
  {
   "cell_type": "code",
   "execution_count": 98,
   "id": "3eeea003",
   "metadata": {
    "ExecuteTime": {
     "end_time": "2022-08-31T07:58:46.898444Z",
     "start_time": "2022-08-31T07:58:46.883952Z"
    }
   },
   "outputs": [],
   "source": [
    "data_testing = pd.read_csv(\"/Users/camillepettineo/code/sunc33/sexist_speech_recognition/sexist_speech_recognition/data/Test_Sexist_tweet.csv\")"
   ]
  },
  {
   "cell_type": "code",
   "execution_count": 99,
   "id": "887fd02f",
   "metadata": {
    "ExecuteTime": {
     "end_time": "2022-08-31T07:58:47.362067Z",
     "start_time": "2022-08-31T07:58:47.344598Z"
    }
   },
   "outputs": [
    {
     "data": {
      "text/html": [
       "<div>\n",
       "<style scoped>\n",
       "    .dataframe tbody tr th:only-of-type {\n",
       "        vertical-align: middle;\n",
       "    }\n",
       "\n",
       "    .dataframe tbody tr th {\n",
       "        vertical-align: top;\n",
       "    }\n",
       "\n",
       "    .dataframe thead th {\n",
       "        text-align: right;\n",
       "    }\n",
       "</style>\n",
       "<table border=\"1\" class=\"dataframe\">\n",
       "  <thead>\n",
       "    <tr style=\"text-align: right;\">\n",
       "      <th></th>\n",
       "      <th>text</th>\n",
       "    </tr>\n",
       "  </thead>\n",
       "  <tbody>\n",
       "    <tr>\n",
       "      <th>0</th>\n",
       "      <td>@femfreq you're going down bitch!</td>\n",
       "    </tr>\n",
       "    <tr>\n",
       "      <th>1</th>\n",
       "      <td>Don't pull the gender card. You're not beaing ...</td>\n",
       "    </tr>\n",
       "    <tr>\n",
       "      <th>2</th>\n",
       "      <td>The main reason why all the harass to women is...</td>\n",
       "    </tr>\n",
       "    <tr>\n",
       "      <th>3</th>\n",
       "      <td>Women belong to the kitchen</td>\n",
       "    </tr>\n",
       "    <tr>\n",
       "      <th>4</th>\n",
       "      <td>Women are stupid. They cannot teach.</td>\n",
       "    </tr>\n",
       "    <tr>\n",
       "      <th>5</th>\n",
       "      <td>Men are fearless than women in life.</td>\n",
       "    </tr>\n",
       "    <tr>\n",
       "      <th>6</th>\n",
       "      <td>A woman is not respectable if she has sex befo...</td>\n",
       "    </tr>\n",
       "    <tr>\n",
       "      <th>7</th>\n",
       "      <td>Women should shut up and be content to be beau...</td>\n",
       "    </tr>\n",
       "    <tr>\n",
       "      <th>8</th>\n",
       "      <td>Women shouldn't be allowed to wear whatever th...</td>\n",
       "    </tr>\n",
       "    <tr>\n",
       "      <th>9</th>\n",
       "      <td>No woman should ever lead a nation</td>\n",
       "    </tr>\n",
       "    <tr>\n",
       "      <th>10</th>\n",
       "      <td>I love football, it really is the best sport i...</td>\n",
       "    </tr>\n",
       "    <tr>\n",
       "      <th>11</th>\n",
       "      <td>Man are stronger than women</td>\n",
       "    </tr>\n",
       "    <tr>\n",
       "      <th>12</th>\n",
       "      <td>Natural mineral water is tasty</td>\n",
       "    </tr>\n",
       "    <tr>\n",
       "      <th>13</th>\n",
       "      <td>Man are very strong</td>\n",
       "    </tr>\n",
       "    <tr>\n",
       "      <th>14</th>\n",
       "      <td>Women are beautiful</td>\n",
       "    </tr>\n",
       "    <tr>\n",
       "      <th>15</th>\n",
       "      <td>Women love to have children and big family</td>\n",
       "    </tr>\n",
       "    <tr>\n",
       "      <th>16</th>\n",
       "      <td>Women belong to the kitchen? what kind of man ...</td>\n",
       "    </tr>\n",
       "    <tr>\n",
       "      <th>17</th>\n",
       "      <td>Men love soccer, women love dancing</td>\n",
       "    </tr>\n",
       "  </tbody>\n",
       "</table>\n",
       "</div>"
      ],
      "text/plain": [
       "                                                 text\n",
       "0                   @femfreq you're going down bitch!\n",
       "1   Don't pull the gender card. You're not beaing ...\n",
       "2   The main reason why all the harass to women is...\n",
       "3                         Women belong to the kitchen\n",
       "4                Women are stupid. They cannot teach.\n",
       "5                Men are fearless than women in life.\n",
       "6   A woman is not respectable if she has sex befo...\n",
       "7   Women should shut up and be content to be beau...\n",
       "8   Women shouldn't be allowed to wear whatever th...\n",
       "9                  No woman should ever lead a nation\n",
       "10  I love football, it really is the best sport i...\n",
       "11                        Man are stronger than women\n",
       "12                     Natural mineral water is tasty\n",
       "13                               Man are very strong \n",
       "14                                Women are beautiful\n",
       "15         Women love to have children and big family\n",
       "16  Women belong to the kitchen? what kind of man ...\n",
       "17                Men love soccer, women love dancing"
      ]
     },
     "execution_count": 99,
     "metadata": {},
     "output_type": "execute_result"
    }
   ],
   "source": [
    "X_new = data_testing.drop(columns = 'sexist')\n",
    "X_new"
   ]
  },
  {
   "cell_type": "code",
   "execution_count": 100,
   "id": "396f607e",
   "metadata": {
    "ExecuteTime": {
     "end_time": "2022-08-31T07:58:47.690771Z",
     "start_time": "2022-08-31T07:58:47.666062Z"
    }
   },
   "outputs": [
    {
     "data": {
      "text/html": [
       "<div>\n",
       "<style scoped>\n",
       "    .dataframe tbody tr th:only-of-type {\n",
       "        vertical-align: middle;\n",
       "    }\n",
       "\n",
       "    .dataframe tbody tr th {\n",
       "        vertical-align: top;\n",
       "    }\n",
       "\n",
       "    .dataframe thead th {\n",
       "        text-align: right;\n",
       "    }\n",
       "</style>\n",
       "<table border=\"1\" class=\"dataframe\">\n",
       "  <thead>\n",
       "    <tr style=\"text-align: right;\">\n",
       "      <th></th>\n",
       "      <th>text</th>\n",
       "    </tr>\n",
       "  </thead>\n",
       "  <tbody>\n",
       "    <tr>\n",
       "      <th>0</th>\n",
       "      <td>femfreq youre go bitch</td>\n",
       "    </tr>\n",
       "    <tr>\n",
       "      <th>1</th>\n",
       "      <td>dont pull gender card youre beaing harrassed y...</td>\n",
       "    </tr>\n",
       "    <tr>\n",
       "      <th>2</th>\n",
       "      <td>main reason harass women dumb feminist bitch w...</td>\n",
       "    </tr>\n",
       "    <tr>\n",
       "      <th>3</th>\n",
       "      <td>women belong kitchen</td>\n",
       "    </tr>\n",
       "    <tr>\n",
       "      <th>4</th>\n",
       "      <td>women stupid teach</td>\n",
       "    </tr>\n",
       "    <tr>\n",
       "      <th>5</th>\n",
       "      <td>men fearless women life</td>\n",
       "    </tr>\n",
       "    <tr>\n",
       "      <th>6</th>\n",
       "      <td>woman respectable sex marry</td>\n",
       "    </tr>\n",
       "    <tr>\n",
       "      <th>7</th>\n",
       "      <td>women shut content beautiful</td>\n",
       "    </tr>\n",
       "    <tr>\n",
       "      <th>8</th>\n",
       "      <td>women shouldnt allow wear whatever want</td>\n",
       "    </tr>\n",
       "    <tr>\n",
       "      <th>9</th>\n",
       "      <td>woman ever lead nation</td>\n",
       "    </tr>\n",
       "    <tr>\n",
       "      <th>10</th>\n",
       "      <td>love football really best sport world</td>\n",
       "    </tr>\n",
       "    <tr>\n",
       "      <th>11</th>\n",
       "      <td>man stronger women</td>\n",
       "    </tr>\n",
       "    <tr>\n",
       "      <th>12</th>\n",
       "      <td>natural mineral water tasty</td>\n",
       "    </tr>\n",
       "    <tr>\n",
       "      <th>13</th>\n",
       "      <td>man strong</td>\n",
       "    </tr>\n",
       "    <tr>\n",
       "      <th>14</th>\n",
       "      <td>women beautiful</td>\n",
       "    </tr>\n",
       "    <tr>\n",
       "      <th>15</th>\n",
       "      <td>women love children big family</td>\n",
       "    </tr>\n",
       "    <tr>\n",
       "      <th>16</th>\n",
       "      <td>women belong kitchen kind man would say thing</td>\n",
       "    </tr>\n",
       "    <tr>\n",
       "      <th>17</th>\n",
       "      <td>men love soccer women love dance</td>\n",
       "    </tr>\n",
       "  </tbody>\n",
       "</table>\n",
       "</div>"
      ],
      "text/plain": [
       "                                                 text\n",
       "0                              femfreq youre go bitch\n",
       "1   dont pull gender card youre beaing harrassed y...\n",
       "2   main reason harass women dumb feminist bitch w...\n",
       "3                                women belong kitchen\n",
       "4                                  women stupid teach\n",
       "5                             men fearless women life\n",
       "6                         woman respectable sex marry\n",
       "7                        women shut content beautiful\n",
       "8             women shouldnt allow wear whatever want\n",
       "9                              woman ever lead nation\n",
       "10              love football really best sport world\n",
       "11                                 man stronger women\n",
       "12                        natural mineral water tasty\n",
       "13                                         man strong\n",
       "14                                    women beautiful\n",
       "15                     women love children big family\n",
       "16      women belong kitchen kind man would say thing\n",
       "17                   men love soccer women love dance"
      ]
     },
     "execution_count": 100,
     "metadata": {},
     "output_type": "execute_result"
    }
   ],
   "source": [
    "X_new_clean = pd.DataFrame(X_new.text.apply(cleaning))\n",
    "X_new_clean"
   ]
  },
  {
   "cell_type": "code",
   "execution_count": 101,
   "id": "a39652e1",
   "metadata": {
    "ExecuteTime": {
     "end_time": "2022-08-31T07:58:48.169460Z",
     "start_time": "2022-08-31T07:58:48.061592Z"
    }
   },
   "outputs": [
    {
     "data": {
      "text/html": [
       "<style>#sk-container-id-2 {color: black;background-color: white;}#sk-container-id-2 pre{padding: 0;}#sk-container-id-2 div.sk-toggleable {background-color: white;}#sk-container-id-2 label.sk-toggleable__label {cursor: pointer;display: block;width: 100%;margin-bottom: 0;padding: 0.3em;box-sizing: border-box;text-align: center;}#sk-container-id-2 label.sk-toggleable__label-arrow:before {content: \"▸\";float: left;margin-right: 0.25em;color: #696969;}#sk-container-id-2 label.sk-toggleable__label-arrow:hover:before {color: black;}#sk-container-id-2 div.sk-estimator:hover label.sk-toggleable__label-arrow:before {color: black;}#sk-container-id-2 div.sk-toggleable__content {max-height: 0;max-width: 0;overflow: hidden;text-align: left;background-color: #f0f8ff;}#sk-container-id-2 div.sk-toggleable__content pre {margin: 0.2em;color: black;border-radius: 0.25em;background-color: #f0f8ff;}#sk-container-id-2 input.sk-toggleable__control:checked~div.sk-toggleable__content {max-height: 200px;max-width: 100%;overflow: auto;}#sk-container-id-2 input.sk-toggleable__control:checked~label.sk-toggleable__label-arrow:before {content: \"▾\";}#sk-container-id-2 div.sk-estimator input.sk-toggleable__control:checked~label.sk-toggleable__label {background-color: #d4ebff;}#sk-container-id-2 div.sk-label input.sk-toggleable__control:checked~label.sk-toggleable__label {background-color: #d4ebff;}#sk-container-id-2 input.sk-hidden--visually {border: 0;clip: rect(1px 1px 1px 1px);clip: rect(1px, 1px, 1px, 1px);height: 1px;margin: -1px;overflow: hidden;padding: 0;position: absolute;width: 1px;}#sk-container-id-2 div.sk-estimator {font-family: monospace;background-color: #f0f8ff;border: 1px dotted black;border-radius: 0.25em;box-sizing: border-box;margin-bottom: 0.5em;}#sk-container-id-2 div.sk-estimator:hover {background-color: #d4ebff;}#sk-container-id-2 div.sk-parallel-item::after {content: \"\";width: 100%;border-bottom: 1px solid gray;flex-grow: 1;}#sk-container-id-2 div.sk-label:hover label.sk-toggleable__label {background-color: #d4ebff;}#sk-container-id-2 div.sk-serial::before {content: \"\";position: absolute;border-left: 1px solid gray;box-sizing: border-box;top: 0;bottom: 0;left: 50%;z-index: 0;}#sk-container-id-2 div.sk-serial {display: flex;flex-direction: column;align-items: center;background-color: white;padding-right: 0.2em;padding-left: 0.2em;position: relative;}#sk-container-id-2 div.sk-item {position: relative;z-index: 1;}#sk-container-id-2 div.sk-parallel {display: flex;align-items: stretch;justify-content: center;background-color: white;position: relative;}#sk-container-id-2 div.sk-item::before, #sk-container-id-2 div.sk-parallel-item::before {content: \"\";position: absolute;border-left: 1px solid gray;box-sizing: border-box;top: 0;bottom: 0;left: 50%;z-index: -1;}#sk-container-id-2 div.sk-parallel-item {display: flex;flex-direction: column;z-index: 1;position: relative;background-color: white;}#sk-container-id-2 div.sk-parallel-item:first-child::after {align-self: flex-end;width: 50%;}#sk-container-id-2 div.sk-parallel-item:last-child::after {align-self: flex-start;width: 50%;}#sk-container-id-2 div.sk-parallel-item:only-child::after {width: 0;}#sk-container-id-2 div.sk-dashed-wrapped {border: 1px dashed gray;margin: 0 0.4em 0.5em 0.4em;box-sizing: border-box;padding-bottom: 0.4em;background-color: white;}#sk-container-id-2 div.sk-label label {font-family: monospace;font-weight: bold;display: inline-block;line-height: 1.2em;}#sk-container-id-2 div.sk-label-container {text-align: center;}#sk-container-id-2 div.sk-container {/* jupyter's `normalize.less` sets `[hidden] { display: none; }` but bootstrap.min.css set `[hidden] { display: none !important; }` so we also need the `!important` here to be able to override the default hidden behavior on the sphinx rendered scikit-learn.org. See: https://github.com/scikit-learn/scikit-learn/issues/21755 */display: inline-block !important;position: relative;}#sk-container-id-2 div.sk-text-repr-fallback {display: none;}</style><div id=\"sk-container-id-2\" class=\"sk-top-container\"><div class=\"sk-text-repr-fallback\"><pre>Pipeline(steps=[(&#x27;tfidfvectorizer&#x27;, TfidfVectorizer()),\n",
       "                (&#x27;multinomialnb&#x27;, MultinomialNB())])</pre><b>In a Jupyter environment, please rerun this cell to show the HTML representation or trust the notebook. <br />On GitHub, the HTML representation is unable to render, please try loading this page with nbviewer.org.</b></div><div class=\"sk-container\" hidden><div class=\"sk-item sk-dashed-wrapped\"><div class=\"sk-label-container\"><div class=\"sk-label sk-toggleable\"><input class=\"sk-toggleable__control sk-hidden--visually\" id=\"sk-estimator-id-4\" type=\"checkbox\" ><label for=\"sk-estimator-id-4\" class=\"sk-toggleable__label sk-toggleable__label-arrow\">Pipeline</label><div class=\"sk-toggleable__content\"><pre>Pipeline(steps=[(&#x27;tfidfvectorizer&#x27;, TfidfVectorizer()),\n",
       "                (&#x27;multinomialnb&#x27;, MultinomialNB())])</pre></div></div></div><div class=\"sk-serial\"><div class=\"sk-item\"><div class=\"sk-estimator sk-toggleable\"><input class=\"sk-toggleable__control sk-hidden--visually\" id=\"sk-estimator-id-5\" type=\"checkbox\" ><label for=\"sk-estimator-id-5\" class=\"sk-toggleable__label sk-toggleable__label-arrow\">TfidfVectorizer</label><div class=\"sk-toggleable__content\"><pre>TfidfVectorizer()</pre></div></div></div><div class=\"sk-item\"><div class=\"sk-estimator sk-toggleable\"><input class=\"sk-toggleable__control sk-hidden--visually\" id=\"sk-estimator-id-6\" type=\"checkbox\" ><label for=\"sk-estimator-id-6\" class=\"sk-toggleable__label sk-toggleable__label-arrow\">MultinomialNB</label><div class=\"sk-toggleable__content\"><pre>MultinomialNB()</pre></div></div></div></div></div></div></div>"
      ],
      "text/plain": [
       "Pipeline(steps=[('tfidfvectorizer', TfidfVectorizer()),\n",
       "                ('multinomialnb', MultinomialNB())])"
      ]
     },
     "execution_count": 101,
     "metadata": {},
     "output_type": "execute_result"
    }
   ],
   "source": [
    "pipeline_naive_bayes.fit(X_train_ok, y_train_ok)"
   ]
  },
  {
   "cell_type": "code",
   "execution_count": 102,
   "id": "80e1f330",
   "metadata": {
    "ExecuteTime": {
     "end_time": "2022-08-31T07:58:48.395440Z",
     "start_time": "2022-08-31T07:58:48.329176Z"
    }
   },
   "outputs": [
    {
     "data": {
      "text/plain": [
       "0.7140635798203179"
      ]
     },
     "execution_count": 102,
     "metadata": {},
     "output_type": "execute_result"
    }
   ],
   "source": [
    "pipeline_naive_bayes.score(X_test_ok, y_test_ok)"
   ]
  },
  {
   "cell_type": "code",
   "execution_count": 103,
   "id": "cf80329f",
   "metadata": {
    "ExecuteTime": {
     "end_time": "2022-08-31T07:58:48.511752Z",
     "start_time": "2022-08-31T07:58:48.507456Z"
    }
   },
   "outputs": [
    {
     "data": {
      "text/plain": [
       "0    5000\n",
       "1     788\n",
       "Name: label, dtype: int64"
      ]
     },
     "execution_count": 103,
     "metadata": {},
     "output_type": "execute_result"
    }
   ],
   "source": [
    "y_test_ok.value_counts()"
   ]
  },
  {
   "cell_type": "code",
   "execution_count": 104,
   "id": "145ce0b0",
   "metadata": {
    "ExecuteTime": {
     "end_time": "2022-08-31T07:58:48.765432Z",
     "start_time": "2022-08-31T07:58:48.751424Z"
    }
   },
   "outputs": [
    {
     "data": {
      "text/plain": [
       "array([0])"
      ]
     },
     "execution_count": 104,
     "metadata": {},
     "output_type": "execute_result"
    }
   ],
   "source": [
    "pipeline_naive_bayes.predict(X_new_clean.iloc[0])"
   ]
  },
  {
   "cell_type": "code",
   "execution_count": 105,
   "id": "99cc6670",
   "metadata": {
    "ExecuteTime": {
     "end_time": "2022-08-31T07:58:48.962026Z",
     "start_time": "2022-08-31T07:58:48.945874Z"
    }
   },
   "outputs": [
    {
     "name": "stdout",
     "output_type": "stream",
     "text": [
      "0                                femfreq youre go bitch\n",
      "1     dont pull gender card youre beaing harrassed y...\n",
      "2     main reason harass women dumb feminist bitch w...\n",
      "3                                  women belong kitchen\n",
      "4                                    women stupid teach\n",
      "5                               men fearless women life\n",
      "6                           woman respectable sex marry\n",
      "7                          women shut content beautiful\n",
      "8               women shouldnt allow wear whatever want\n",
      "9                                woman ever lead nation\n",
      "10                love football really best sport world\n",
      "11                                   man stronger women\n",
      "12                          natural mineral water tasty\n",
      "13                                           man strong\n",
      "14                                      women beautiful\n",
      "15                       women love children big family\n",
      "16        women belong kitchen kind man would say thing\n",
      "17                     men love soccer women love dance\n",
      "Name: text, dtype: object : [0 1 1 1 1 1 1 0 1 1 1 1 0 1 1 0 1 1]\n"
     ]
    }
   ],
   "source": [
    "for i in X_new_clean:\n",
    "    print(f\"{X_new_clean[i]} : {pipeline_naive_bayes.predict(X_new_clean[i])}\")\n",
    "    "
   ]
  },
  {
   "cell_type": "code",
   "execution_count": 106,
   "id": "46db3a21",
   "metadata": {
    "ExecuteTime": {
     "end_time": "2022-08-31T07:58:49.130125Z",
     "start_time": "2022-08-31T07:58:49.112954Z"
    }
   },
   "outputs": [
    {
     "name": "stdout",
     "output_type": "stream",
     "text": [
      "[[0.66979384 0.33020616]\n",
      " [0.35315886 0.64684114]\n",
      " [0.13695723 0.86304277]\n",
      " [0.32257642 0.67742358]\n",
      " [0.17465815 0.82534185]\n",
      " [0.28521607 0.71478393]\n",
      " [0.14881828 0.85118172]\n",
      " [0.59202462 0.40797538]\n",
      " [0.15615184 0.84384816]\n",
      " [0.33586344 0.66413656]\n",
      " [0.20573629 0.79426371]\n",
      " [0.17555037 0.82444963]\n",
      " [0.54030454 0.45969546]\n",
      " [0.38740274 0.61259726]\n",
      " [0.34342668 0.65657332]\n",
      " [0.61654713 0.38345287]\n",
      " [0.39221371 0.60778629]\n",
      " [0.45161711 0.54838289]]\n"
     ]
    }
   ],
   "source": [
    "for i in X_new_clean:\n",
    "    print(pipeline_naive_bayes.predict_proba(X_new_clean[i]))"
   ]
  },
  {
   "cell_type": "code",
   "execution_count": 107,
   "id": "b5f7908b",
   "metadata": {
    "ExecuteTime": {
     "end_time": "2022-08-31T07:58:49.316461Z",
     "start_time": "2022-08-31T07:58:49.301968Z"
    }
   },
   "outputs": [
    {
     "data": {
      "text/plain": [
       "0    4728\n",
       "1    3152\n",
       "Name: label, dtype: int64"
      ]
     },
     "execution_count": 107,
     "metadata": {},
     "output_type": "execute_result"
    }
   ],
   "source": [
    "y_train_ok.value_counts()"
   ]
  }
 ],
 "metadata": {
  "kernelspec": {
   "display_name": "Python 3 (ipykernel)",
   "language": "python",
   "name": "python3"
  },
  "language_info": {
   "codemirror_mode": {
    "name": "ipython",
    "version": 3
   },
   "file_extension": ".py",
   "mimetype": "text/x-python",
   "name": "python",
   "nbconvert_exporter": "python",
   "pygments_lexer": "ipython3",
   "version": "3.8.13"
  },
  "toc": {
   "base_numbering": 1,
   "nav_menu": {},
   "number_sections": true,
   "sideBar": true,
   "skip_h1_title": false,
   "title_cell": "Table of Contents",
   "title_sidebar": "Contents",
   "toc_cell": false,
   "toc_position": {},
   "toc_section_display": true,
   "toc_window_display": false
  }
 },
 "nbformat": 4,
 "nbformat_minor": 5
}
